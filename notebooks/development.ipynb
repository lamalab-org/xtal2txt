{
 "cells": [
  {
   "cell_type": "code",
   "execution_count": 2,
   "metadata": {},
   "outputs": [],
   "source": [
    "import json"
   ]
  },
  {
   "cell_type": "code",
   "execution_count": 3,
   "metadata": {},
   "outputs": [],
   "source": [
    "#function to load json\n",
    "def load_json(file):\n",
    "    with open(file) as f:\n",
    "        data = json.load(f)\n",
    "    return data"
   ]
  },
  {
   "cell_type": "code",
   "execution_count": 4,
   "metadata": {},
   "outputs": [],
   "source": [
    "data = load_json('/home/so87pot/n0w0f/structllm_data/qmof_filtered.json')"
   ]
  },
  {
   "cell_type": "code",
   "execution_count": 24,
   "metadata": {},
   "outputs": [],
   "source": [
    "from pymatgen.core.structure import Structure\n",
    "\n",
    "def dict_to_structure(structure_dict):\n",
    "    return Structure.from_dict(structure_dict).to(fmt='cif')\n",
    "\n",
    "def filter_data(data,number_of_atoms):\n",
    "    filtered_data = []\n",
    "    for entry in data:\n",
    "        if all(key in entry['data'] for key in ['natoms', 'pld', 'lcd', 'density', 'EgPBE', 'volume']):\n",
    "            if entry['data']['natoms']['value'] < number_of_atoms:\n",
    "                filtered_entry = {\n",
    "                    'id': entry['id'],\n",
    "                    'structure': dict_to_structure(entry['structure']),\n",
    "                    'natoms': entry['data']['natoms']['value'],\n",
    "                    'pld': entry['data']['pld']['value'],\n",
    "                    'lcd': entry['data']['lcd']['value'],\n",
    "                    'density': entry['data']['density']['value'],\n",
    "                    'EgPBE': entry['data']['EgPBE']['value'],\n",
    "                    'volume': entry['data']['volume']['value'],\n",
    "                }\n",
    "                filtered_data.append(filtered_entry)\n",
    "    return filtered_data\n",
    "\n",
    "# code  to call filter data and save json\n",
    "data = load_json('/home/so87pot/n0w0f/structllm/src/structllm/dataprep/qmof_dataset/screened_mofs.json')\n",
    "\n",
    "filtered_data = filter_data(data,100)\n",
    "with open('filtered_data.json', 'w') as f:\n",
    "    json.dump(filtered_data, f, indent=4)"
   ]
  },
  {
   "cell_type": "code",
   "execution_count": 25,
   "metadata": {},
   "outputs": [
    {
     "data": {
      "text/plain": [
       "{'id': '6196c6e7a6be6ad338993951',\n",
       " 'structure': \"# generated using pymatgen\\ndata_Ba2CuH14(C3O8)2\\n_symmetry_space_group_name_H-M   'P 1'\\n_cell_length_a   6.94195231\\n_cell_length_b   7.17878940\\n_cell_length_c   8.79165165\\n_cell_angle_alpha   82.25599710\\n_cell_angle_beta   71.35701702\\n_cell_angle_gamma   81.58285545\\n_symmetry_Int_Tables_number   1\\n_chemical_formula_structural   Ba2CuH14(C3O8)2\\n_chemical_formula_sum   'Ba2 Cu1 H14 C6 O16'\\n_cell_volume   408.85747126\\n_cell_formula_units_Z   1\\nloop_\\n _symmetry_equiv_pos_site_id\\n _symmetry_equiv_pos_as_xyz\\n  1  'x, y, z'\\nloop_\\n _atom_site_type_symbol\\n _atom_site_label\\n _atom_site_symmetry_multiplicity\\n _atom_site_fract_x\\n _atom_site_fract_y\\n _atom_site_fract_z\\n _atom_site_occupancy\\n  Ba  Ba0  1  0.09830491  0.73435257  0.35340987  1\\n  Ba  Ba1  1  0.90169454  0.26564683  0.64659097  1\\n  Cu  Cu2  1  0.00000517  0.99999776  0.99999986  1\\n  H  H3  1  0.59629623  0.90436682  0.07226429  1\\n  H  H4  1  0.40370491  0.09563116  0.92773741  1\\n  H  H5  1  0.00460535  0.36603387  0.08997702  1\\n  H  H6  1  0.99539477  0.63395988  0.91001972  1\\n  H  H7  1  0.45740440  0.39774234  0.12471460  1\\n  H  H8  1  0.54259522  0.60225564  0.87527952  1\\n  H  H9  1  0.34667918  0.05719876  0.42535163  1\\n  H  H10  1  0.65332314  0.94280205  0.57465515  1\\n  H  H11  1  0.30121594  0.92728771  0.59164359  1\\n  H  H12  1  0.69878199  0.07271169  0.40836218  1\\n  H  H13  1  0.38406320  0.34763759  0.41905977  1\\n  H  H14  1  0.61593675  0.65235756  0.58094141  1\\n  H  H15  1  0.35028880  0.40454035  0.59270859  1\\n  H  H16  1  0.64970812  0.59546754  0.40729081  1\\n  C  C17  1  0.65178813  0.80750039  0.16207635  1\\n  C  C18  1  0.34821436  0.19249901  0.83792485  1\\n  C  C19  1  0.04497797  0.27531563  0.19007171  1\\n  C  C20  1  0.95502300  0.72468376  0.80992647  1\\n  C  C21  1  0.57703131  0.28113492  0.13766959  1\\n  C  C22  1  0.42296661  0.71886448  0.86232822  1\\n  O  O23  1  0.83700339  0.81494706  0.15897972  1\\n  O  O24  1  0.16299910  0.18505234  0.84102035  1\\n  O  O25  1  0.53521993  0.69684834  0.25823823  1\\n  O  O26  1  0.46478054  0.30315530  0.74176757  1\\n  O  O27  1  0.06417235  0.35074004  0.30403184  1\\n  O  O28  1  0.93581917  0.64926219  0.69596727  1\\n  O  O29  1  0.07041927  0.09574826  0.17915093  1\\n  O  O30  1  0.92959099  0.90424973  0.82084733  1\\n  O  O31  1  0.71897665  0.24145801  0.01129704  1\\n  O  O32  1  0.28102601  0.75853997  0.98870201  1\\n  O  O33  1  0.55542234  0.20130160  0.28060418  1\\n  O  O34  1  0.44457238  0.79869921  0.71939428  1\\n  O  O35  1  0.24143604  0.98685352  0.50576925  1\\n  O  O36  1  0.75856307  0.01314871  0.49423591  1\\n  O  O37  1  0.28603665  0.42259145  0.50474150  1\\n  O  O38  1  0.71396263  0.57740937  0.49525694  1\\n\",\n",
       " 'natoms': 39.0,\n",
       " 'pld': 0.68822,\n",
       " 'lcd': 1.3548,\n",
       " 'density': 2.76325,\n",
       " 'EgPBE': 0.632527,\n",
       " 'volume': 408.857}"
      ]
     },
     "execution_count": 25,
     "metadata": {},
     "output_type": "execute_result"
    }
   ],
   "source": [
    "filtered_data[0]"
   ]
  },
  {
   "cell_type": "code",
   "execution_count": 1,
   "metadata": {},
   "outputs": [
    {
     "data": {
      "text/plain": [
       "Structure Summary\n",
       "Lattice\n",
       "    abc : 5.52040491 5.52040491 6.7959803201326165\n",
       " angles : 113.96335098610967 113.96335098610967 90.0\n",
       " volume : 169.53429042489148\n",
       "      A : 5.52040491 -0.0 -0.0\n",
       "      B : -3.380273101514416e-16 5.52040491 3.380273101514416e-16\n",
       "      C : -2.7602024549999995 -2.760202455 5.563084875\n",
       "    pbc : True True True\n",
       "PeriodicSite: Cu4 (Cu+) (-6.882e-17, 2.76, 2.782) [0.25, 0.75, 0.5]\n",
       "PeriodicSite: Cu5 (Cu+) (0.0, 0.0, 0.0) [0.0, 0.0, 0.0]\n",
       "PeriodicSite: In0 (In3+) (2.76, 2.76, 1.69e-16) [0.5, 0.5, 0.0]\n",
       "PeriodicSite: In1 (In3+) (2.76, -7.194e-16, 2.782) [0.75, 0.25, 0.5]\n",
       "PeriodicSite: S8 (S2-) (4.299, 4.14, 1.391) [0.9038, 0.875, 0.25]\n",
       "PeriodicSite: S9 (S2-) (1.38, -1.539, 4.172) [0.625, 0.0962, 0.75]\n",
       "PeriodicSite: S10 (S2-) (1.221, 1.38, 1.391) [0.3462, 0.375, 0.25]\n",
       "PeriodicSite: S11 (S2-) (-1.38, 1.539, 4.172) [0.125, 0.6538, 0.75]"
      ]
     },
     "execution_count": 1,
     "metadata": {},
     "output_type": "execute_result"
    }
   ],
   "source": [
    "from pymatgen.core import Structure\n",
    "from_file  = \"/home/so87pot/n0w0f/xtal2txt/tests/data/InCuS2_p1.cif\"\n",
    "structure = Structure.from_file(str(from_file), \"cif\")\n",
    "structure"
   ]
  },
  {
   "cell_type": "code",
   "execution_count": 2,
   "metadata": {},
   "outputs": [
    {
     "name": "stderr",
     "output_type": "stream",
     "text": [
      "2024-04-22 22:00:57.913790: E external/local_xla/xla/stream_executor/cuda/cuda_dnn.cc:9261] Unable to register cuDNN factory: Attempting to register factory for plugin cuDNN when one has already been registered\n",
      "2024-04-22 22:00:57.914418: E external/local_xla/xla/stream_executor/cuda/cuda_fft.cc:607] Unable to register cuFFT factory: Attempting to register factory for plugin cuFFT when one has already been registered\n",
      "2024-04-22 22:00:58.045787: E external/local_xla/xla/stream_executor/cuda/cuda_blas.cc:1515] Unable to register cuBLAS factory: Attempting to register factory for plugin cuBLAS when one has already been registered\n"
     ]
    },
    {
     "name": "stdout",
     "output_type": "stream",
     "text": [
      "WARNING:tensorflow:From /home/so87pot/miniconda3/envs/xtal2/lib/python3.9/site-packages/tensorflow/python/util/deprecation.py:588: calling function (from tensorflow.python.eager.polymorphic_function.polymorphic_function) with experimental_relax_shapes is deprecated and will be removed in a future version.\n",
      "Instructions for updating:\n",
      "experimental_relax_shapes is deprecated, use reduce_retracing instead\n"
     ]
    },
    {
     "name": "stderr",
     "output_type": "stream",
     "text": [
      "Reading file /home/so87pot/miniconda3/envs/xtal2/lib/python3.9/site-packages/robocrys/condense/mineral_db.json.gz: 0it [00:00, ?it/s]###5  | 135/180 [00:00<00:00, 685.40it/s]\n",
      "Decoding objects from /home/so87pot/miniconda3/envs/xtal2/lib/python3.9/site-packages/robocrys/condense/mineral_db.json.gz: 100%|##########| 180/180 [00:00<00:00, 658.66it/s]\n"
     ]
    }
   ],
   "source": [
    "from xtal2txt.core import TextRep\n",
    "transformations = [\n",
    "    #(\"permute_structure\", {\"seed\": 42}),\n",
    "     (\"translate_single_atom\", {\"seed\": 42}),\n",
    "     (\"perturb_structure\", {\"seed\": 42, \"max_distance\":0.1}),\n",
    "     (\"translate_structure\", {\"seed\": 42, \"vector\": [0.1,0.1,0.1], \"frac_coords\": True}),\n",
    "    ]\n",
    "\n",
    "text_rep = TextRep.from_input(structure, transformations)"
   ]
  },
  {
   "cell_type": "code",
   "execution_count": null,
   "metadata": {},
   "outputs": [],
   "source": [
    "structure.perturb(distance=0.1,)"
   ]
  },
  {
   "cell_type": "code",
   "execution_count": 8,
   "metadata": {},
   "outputs": [],
   "source": [
    "structure.translate_sites(indices=[0], vector=[0.25, 0.25, 0.25],frac_coords=True)"
   ]
  },
  {
   "cell_type": "code",
   "execution_count": 99,
   "metadata": {},
   "outputs": [],
   "source": [
    "from pymatgen.core.structure import Molecule\n",
    "\n",
    "species = [s.element for s in structure.species]\n",
    "coords = [c for c in structure.cart_coords]\n",
    "molecule_ = Molecule(species, coords, )\n",
    "zmatrix = molecule_.get_zmatrix()"
   ]
  },
  {
   "cell_type": "code",
   "execution_count": 90,
   "metadata": {},
   "outputs": [],
   "source": [
    "def updated_zmatrix_rep(zmatrix, decimal_places=1):\n",
    "    lines = zmatrix.split('\\n')\n",
    "    main_part = []\n",
    "    variables_part = []\n",
    "\n",
    "    # Determine the main part and the variables part of the Z-matrix\n",
    "    for line in lines:\n",
    "        if '=' in line:\n",
    "            variables_part.append(line)\n",
    "        else:\n",
    "            if line.strip():  # Skip empty lines\n",
    "                main_part.append(line)\n",
    "\n",
    "    # Extract variables from the variables part\n",
    "    variable_dict = {}\n",
    "    for var_line in variables_part:\n",
    "        var, value = var_line.split('=')\n",
    "        if var.startswith('B'):\n",
    "            rounded_value = round(float(value.strip()), decimal_places)\n",
    "        else:\n",
    "            rounded_value = int(round(float(value.strip())))\n",
    "        variable_dict[var] = f\"{rounded_value}\" if var.startswith(('A', 'D')) else f\"{rounded_value:.{decimal_places}f}\"\n",
    "\n",
    "    # Replace variables in the main part\n",
    "    replaced_lines = []\n",
    "    for line in main_part:\n",
    "        parts = line.split()\n",
    "        atom = parts[0]\n",
    "        replaced_line = line\n",
    "        for i in range(1, len(parts)):\n",
    "            var = parts[i]\n",
    "            if var in variable_dict:\n",
    "                replaced_line = replaced_line.replace(var, variable_dict[var])\n",
    "        replaced_lines.append(replaced_line)\n",
    "\n",
    "    return '\\n'.join(replaced_lines)\n",
    "\n"
   ]
  },
  {
   "cell_type": "code",
   "execution_count": 23,
   "metadata": {},
   "outputs": [],
   "source": [
    "struct = Structure.from_str(\"data_ZnMoCl2\\n_symmetry_space_group_name_H-M   'P 1'\\n_cell_length_a   3.65\\n_cell_length_b   3.23\\n_cell_length_c   7.1\\n_cell_angle_alpha   90.0\\n_cell_angle_beta   101.56\\n_cell_angle_gamma   90.0\\n_symmetry_Int_Tables_number   1\\n_chemical_formula_structural   ZnMoCl2\\n_chemical_formula_sum   'Zn1 Mo1 Cl2'\\n_cell_volume   82.06\\n_cell_formula_units_Z   1\\nloop_\\n _symmetry_equiv_pos_site_id\\n _symmetry_equiv_pos_as_xyz\\n  1  'x, y, z'\\nloop_\\n _atom_site_type_symbol\\n _atom_site_label\\n _atom_site_symmetry_multiplicity\\n _atom_site_fract_x\\n _atom_site_fract_y\\n _atom_site_fract_z\\n _atom_site_occupancy\\n  Zn  Zn3  1  0.25  0.0  0.02  1.0\\n  Mo  Mo2  1  0.43  0.62  0.04  1.0\\n  Cl  Cl0  1  0.15  0.62  0.56  1.0\\n  Cl  Cl1  1  0.51  0.0  0.82  1.0\\n\", fmt=\"cif\")"
   ]
  },
  {
   "cell_type": "code",
   "execution_count": 29,
   "metadata": {},
   "outputs": [
    {
     "data": {
      "text/plain": [
       "Structure Summary\n",
       "Lattice\n",
       "    abc : 3.65 3.23 7.1\n",
       " angles : 90.0 101.56000000000002 90.0\n",
       " volume : 82.0075175703201\n",
       "      A : 3.5759611725600706 0.0 -0.7314380987772003\n",
       "      B : -1.9778045806229754e-16 3.23 1.9778045806229754e-16\n",
       "      C : 0.0 0.0 7.1\n",
       "    pbc : True True True\n",
       "PeriodicSite: Zn3 (Zn) (0.894, 0.0, -0.04086) [0.25, 0.0, 0.02]\n",
       "PeriodicSite: Mo2 (Mo) (1.538, 2.003, -0.03052) [0.43, 0.62, 0.04]\n",
       "PeriodicSite: Cl0 (Cl) (0.5364, 2.003, 3.866) [0.15, 0.62, 0.56]\n",
       "PeriodicSite: Cl1 (Cl) (1.824, 0.0, 5.449) [0.51, 0.0, 0.82]"
      ]
     },
     "execution_count": 29,
     "metadata": {},
     "output_type": "execute_result"
    }
   ],
   "source": [
    "struct"
   ]
  },
  {
   "cell_type": "code",
   "execution_count": 27,
   "metadata": {},
   "outputs": [],
   "source": [
    "species_ =  [s for s in structure.species]"
   ]
  },
  {
   "cell_type": "code",
   "execution_count": 28,
   "metadata": {},
   "outputs": [
    {
     "data": {
      "text/plain": [
       "[Species Cu+,\n",
       " Species Cu+,\n",
       " Species In3+,\n",
       " Species In3+,\n",
       " Species S2-,\n",
       " Species S2-,\n",
       " Species S2-,\n",
       " Species S2-]"
      ]
     },
     "execution_count": 28,
     "metadata": {},
     "output_type": "execute_result"
    }
   ],
   "source": [
    "species_"
   ]
  },
  {
   "cell_type": "code",
   "execution_count": null,
   "metadata": {},
   "outputs": [],
   "source": [
    "from scipy.spatial.distance import squareform\n",
    "\n",
    "def get_distance(self, i: int, j: int) -> float:\n",
    "        \"\"\"Get distance between site i and j.\n",
    "\n",
    "        Args:\n",
    "            i (int): 1st site index\n",
    "            j (int): 2nd site index\n",
    "\n",
    "        Returns:\n",
    "            Distance between the two sites.\n",
    "        \"\"\"\n",
    "        return self[i].distance(self[j])\n",
    "\n",
    "def _find_nn_pos_before_site(self, site_idx):\n",
    "        \"\"\"Returns index of nearest neighbor atoms.\"\"\"\n",
    "        all_dist = [(self.get_distance(site_idx, idx), idx) for idx in range(site_idx)]\n",
    "        all_dist = sorted(all_dist, key=lambda x: x[0])\n",
    "        return [d[1] for d in all_dist]\n",
    "\n",
    "def get_zmatrix(self, molecule, decimal_places=6):\n",
    "    \"\"\"Returns a z-matrix representation of the molecule.\"\"\"\n",
    "    output = []\n",
    "    output_var = []\n",
    "    for idx, site in enumerate(molecule):\n",
    "        if idx == 0:\n",
    "            output.append(f\"{site.specie}\")\n",
    "        else:\n",
    "            nn = self._find_nn_pos_before_site(molecule, idx)\n",
    "            bond_length = molecule.get_distance(idx, nn[0])\n",
    "            bond_length_str = f\"{bond_length:.{decimal_places}f}\"\n",
    "            bond_rep = f\"{nn[0] + 1} {bond_length_str}\"\n",
    "            bond_var = f\"B{idx}={bond_length_str}\"\n",
    "            if idx == 1:\n",
    "                output.append(f\"{molecule[idx].specie} {bond_rep}\")\n",
    "            elif idx == 2:\n",
    "                angle = molecule.get_angle(idx, nn[0], nn[1])\n",
    "                angle_str = f\"{angle:.{decimal_places}f}\"\n",
    "                output.append(f\"{molecule[idx].specie} {bond_rep} {nn[1] + 1} {angle_str}\")\n",
    "                output_var.append(f\"A{idx}={angle_str}\")\n",
    "            else:\n",
    "                angle = molecule.get_angle(idx, nn[0], nn[1])\n",
    "                angle_str = f\"{angle:.{decimal_places}f}\"\n",
    "                dihedral = molecule.get_dihedral(idx, nn[0], nn[1], nn[2])\n",
    "                dihedral_str = f\"{dihedral:.{decimal_places}f}\"\n",
    "                output.append(f\"{molecule[idx].specie} {bond_rep} {nn[1] + 1} {angle_str} {nn[2] + 1} {dihedral_str}\")\n",
    "                output_var.extend([f\"A{idx}={angle_str}\", f\"D{idx}={dihedral_str}\"])\n",
    "            output_var.append(bond_var)\n",
    "    return \"\\n\".join(output) + \"\\n\\n\" + \"\\n\".join(output_var)\n"
   ]
  },
  {
   "cell_type": "code",
   "execution_count": 4,
   "metadata": {},
   "outputs": [],
   "source": [
    "from xtal2txt.local_env import LocalEnvAnalyzer"
   ]
  },
  {
   "cell_type": "code",
   "execution_count": 5,
   "metadata": {},
   "outputs": [],
   "source": [
    "lenv = LocalEnvAnalyzer()"
   ]
  },
  {
   "cell_type": "code",
   "execution_count": 26,
   "metadata": {},
   "outputs": [],
   "source": [
    "local_envs_0 = lenv.structure_to_local_env_string(structure)"
   ]
  },
  {
   "cell_type": "code",
   "execution_count": 25,
   "metadata": {},
   "outputs": [
    {
     "data": {
      "text/plain": [
       "{'Site': 'In3+',\n",
       " 'Wyckoff Label': '2b',\n",
       " 'Environment': Coordination geometry type : Tetrahedron (IUPAC: T-4 || IUCr: [4t])\n",
       " \n",
       "   - coordination number : 4\n",
       " ------------------------------------------------------------,\n",
       " 'Molecule': Molecule Graph\n",
       " Molecule: \n",
       " Molecule Summary\n",
       " Site: In0 (In3+) (0.0000, 0.0000, -0.0000)\n",
       " Site: S10 (S2-) (-1.5391, -1.3801, 1.3908)\n",
       " Site: S8 (S2-) (1.5391, 1.3801, 1.3908)\n",
       " Site: S9 (S2-) (1.3801, -1.5391, -1.3908)\n",
       " Site: S11 (S2-) (-1.3801, 1.5391, -1.3908)\n",
       " Graph: bonds\n",
       " from    to  to_image    \n",
       " ----  ----  ------------\n",
       "    0     1  (0, 0, 0)   \n",
       "    0     2  (0, 0, 0)   \n",
       "    0     3  (0, 0, 0)   \n",
       "    0     4  (0, 0, 0)   ,\n",
       " 'SMILES': '[S][In]([S])[S].[S]'}"
      ]
     },
     "execution_count": 25,
     "metadata": {},
     "output_type": "execute_result"
    }
   ],
   "source": [
    "local_envs_0[0][1]"
   ]
  },
  {
   "cell_type": "code",
   "execution_count": 216,
   "metadata": {},
   "outputs": [],
   "source": [
    "\n",
    "from typing import List\n",
    "import re\n",
    "class NumTokenizer:\n",
    "    \"\"\"Tokenize numbers as implemented in Regression Transformer.\n",
    "        https://www.nature.com/articles/s42256-023-00639-z\"\"\"\n",
    "        \n",
    "\n",
    "    def __init__(self) -> None:\n",
    "        \"\"\"Tokenizer for numbers.\"\"\"\n",
    "        self.regex = re.compile(r\"(\\+|-)?(\\d+)(\\.)?(\\d+)?\\s*\")\n",
    "\n",
    "    import re\n",
    "\n",
    "    def num_matcher(self, text: str) -> str:\n",
    "        \"\"\"Extract numbers from a sentence and replace them with tokens.\"\"\"\n",
    "        matches = re.findall(r'\\b\\d+(?:\\.\\d+)?\\b', text)  # This regex captures both whole numbers and decimal numbers\n",
    "        for match in matches:\n",
    "            tokens = self.tokenize(match)\n",
    "            replacement = ' '.join(tokens)\n",
    "            text = re.sub(r'\\b' + re.escape(match) + r'\\b', replacement, text, count=1)  # replace only the first occurrence\n",
    "        return text\n",
    "\n",
    "    def tokenize(self, text: str) -> List[str]:\n",
    "        \"\"\"Tokenization of a property.\n",
    "\n",
    "        Args:\n",
    "            text: number as string to be tokenized.\n",
    "\n",
    "        Returns:\n",
    "            extracted tokens.\n",
    "        \"\"\"\n",
    "        tokens = []\n",
    "        matched = self.regex.match(text)\n",
    "        if matched:\n",
    "            sign, units, dot, decimals = matched.groups()\n",
    "            tokens = []\n",
    "            if sign:\n",
    "                tokens += [f\"_{sign}_\"]\n",
    "            tokens += [\n",
    "                f\"_{number}_{position}_\" for position, number in enumerate(units[::-1])\n",
    "            ][::-1]\n",
    "            if dot:\n",
    "                tokens += [f\"_{dot}_\"]\n",
    "            if decimals:\n",
    "                tokens += [\n",
    "                    f\"_{number}_-{position}_\"\n",
    "                    for position, number in enumerate(decimals, 1)\n",
    "                ]\n",
    "        return tokens\n",
    "    \n",
    "    @staticmethod\n",
    "    def floating_tokens_to_float(token_ids: List[str]) -> float:\n",
    "        \"\"\"Converts tokens representing a float value into a float.\n",
    "        NOTE: Expects that non-floating tokens are strippped off\n",
    "\n",
    "        Args:\n",
    "            token_ids: List of tokens, each representing a float.\n",
    "                E.g.: ['_0_0_', '_._', '_9_-1_', '_3_-2_', '_1_-3_']\n",
    "\n",
    "        Returns:\n",
    "            float: Float representation for the list of tokens.\n",
    "        \"\"\"\n",
    "        try:\n",
    "            float_string = \"\".join([token.split(\"_\")[1] for token in token_ids])\n",
    "            float_value = float(float_string)\n",
    "        except ValueError:\n",
    "            float_value = -1\n",
    "        return float_value\n",
    "\n",
    "    \n",
    "    def convert_tokens_to_string(self, tokens: List[str]) -> str:\n",
    "        \"\"\"Converts tokens to string.\n",
    "\n",
    "        Args:\n",
    "            tokens: List of tokens.\n",
    "\n",
    "        Returns:\n",
    "            str: String representation of the tokens.\n",
    "        \"\"\"\n",
    "        return \"\".join([token.split(\"_\")[1] for token in tokens])\n",
    "        \n"
   ]
  },
  {
   "cell_type": "code",
   "execution_count": 217,
   "metadata": {},
   "outputs": [],
   "source": [
    "def num_matcher(text: str) -> str:\n",
    "    \"\"\"Extract numbers from a sentence and replace them with tokens.\"\"\"\n",
    "    matches = re.findall(r'\\b\\d+(\\.\\d+)?\\b', text)  # This regex captures both whole numbers and decimal numbers\n",
    "    print(matches)\n",
    "    # for match in matches:\n",
    "    #     replacement = ''.join(self.tokenize(match))\n",
    "    #     text = re.sub(r'\\b' + re.escape(match) + r'\\b', replacement, text, count=1)  # replace only the first occurrence\n",
    "    # return text"
   ]
  },
  {
   "cell_type": "code",
   "execution_count": 218,
   "metadata": {},
   "outputs": [
    {
     "name": "stdout",
     "output_type": "stream",
     "text": [
      "['.63']\n"
     ]
    }
   ],
   "source": [
    "num_matcher(\"5.63\")"
   ]
  },
  {
   "cell_type": "code",
   "execution_count": 220,
   "metadata": {},
   "outputs": [],
   "source": [
    "num_tokenizer = NumTokenizer()"
   ]
  },
  {
   "cell_type": "code",
   "execution_count": 221,
   "metadata": {},
   "outputs": [],
   "source": [
    "mm = num_tokenizer.tokenize(\"5.67\")"
   ]
  },
  {
   "cell_type": "code",
   "execution_count": 222,
   "metadata": {},
   "outputs": [
    {
     "data": {
      "text/plain": [
       "['_5_0_', '_._', '_6_-1_', '_7_-2_']"
      ]
     },
     "execution_count": 222,
     "metadata": {},
     "output_type": "execute_result"
    }
   ],
   "source": [
    "mm"
   ]
  },
  {
   "cell_type": "code",
   "execution_count": 223,
   "metadata": {},
   "outputs": [
    {
     "data": {
      "text/plain": [
       "\"data_InCuS2\\n_symmetry_space_group_name_H-M   P1\\n_cell_length_a   5.52\\n_cell_length_b   5.52\\n_cell_length_c   6.796\\n_cell_angle_alpha   113.963\\n_cell_angle_beta   113.963\\n_cell_angle_gamma   90.0\\n_symmetry_Int_Tables_number   1\\n_chemical_formula_structural   InCuS2\\n_chemical_formula_sum   'In2 Cu2 S4'\\n_cell_volume   169.534\\n_cell_formula_units_Z   2\\nloop_\\n _symmetry_equiv_pos_site_id\\n _symmetry_equiv_pos_as_xyz\\n  1  'x, y, z'\\nloop_\\n _atom_type_symbol\\n _atom_type_oxidation_number\\n  In3+  3.0\\n  Cu+  1.0\\n  S2-  -2.0\\nloop_\\n _atom_site_type_symbol\\n _atom_site_label\\n _atom_site_symmetry_multiplicity\\n _atom_site_fract_x\\n _atom_site_fract_y\\n _atom_site_fract_z\\n _atom_site_occupancy\\n  In3+  In0  1  0.609  0.603  0.097  1.0\\n  In3+  In1  1  0.854  0.341  0.594  1.0\\n  Cu+  Cu2  1  0.36  0.347  0.348  1.0\\n  Cu+  Cu3  1  0.361  0.853  0.609  1.0\\n  S2-  S4  1  0.001  0.963  0.342  1.0\\n  S2-  S5  1  0.218  0.749  0.839  1.0\\n  S2-  S6  1  0.445  0.471  0.358  1.0\\n  S2-  S7  1  0.721  0.188  0.853  1.0\\n\""
      ]
     },
     "execution_count": 223,
     "metadata": {},
     "output_type": "execute_result"
    }
   ],
   "source": [
    "c1"
   ]
  },
  {
   "cell_type": "code",
   "execution_count": 214,
   "metadata": {},
   "outputs": [],
   "source": [
    "new_c1 = num_tokenizer.num_matcher(\"+0.23\")"
   ]
  },
  {
   "cell_type": "code",
   "execution_count": 224,
   "metadata": {},
   "outputs": [
    {
     "data": {
      "text/plain": [
       "\"data_InCuS2\\n_symmetry_space_group_name_H-M   P1\\n_cell_length_a   _5_0_ _._ _5_-1_ _2_-2_\\n_cell_length_b   _5_0_ _._ _5_-1_ _2_-2_\\n_cell_length_c   _6_0_ _._ _7_-1_ _9_-2_ _6_-3_\\n_cell_angle_alpha   _1_2_ _1_1_ _3_0_ _._ _9_-1_ _6_-2_ _3_-3_\\n_cell_angle_beta   _1_2_ _1_1_ _3_0_ _._ _9_-1_ _6_-2_ _3_-3_\\n_cell_angle_gamma   _9_1_ _0_0_ _._ _0_-1_\\n_symmetry_Int_Tables_number   _1_0_\\n_chemical_formula_structural   InCuS2\\n_chemical_formula_sum   'In2 Cu2 S4'\\n_cell_volume   _1_2_ _6_1_ _9_0_ _._ _5_-1_ _3_-2_ _4_-3_\\n_cell_formula_units_Z   _2_0_\\nloop_\\n _symmetry_equiv_pos_site_id\\n _symmetry_equiv_pos_as_xyz\\n  _1_0_  'x, y, z'\\nloop_\\n _atom_type_symbol\\n _atom_type_oxidation_number\\n  In3+  _3_0_ _._ _0_-1_\\n  Cu+  _1_0_ _._ _0_-1_\\n  S2-  -_2_0_ _._ _0_-1_\\nloop_\\n _atom_site_type_symbol\\n _atom_site_label\\n _atom_site_symmetry_multiplicity\\n _atom_site_fract_x\\n _atom_site_fract_y\\n _atom_site_fract_z\\n _atom_site_occupancy\\n  In3+  In0  _1_0_  _0_0_ _._ _6_-1_ _0_-2_ _9_-3_  _0_0_ _._ _6_-1_ _0_-2_ _3_-3_  _0_0_ _._ _0_-1_ _9_-2_ _7_-3_  _1_0_ _._ _0_-1_\\n  In3+  In1  _1_0_  _0_0_ _._ _8_-1_ _5_-2_ _4_-3_  _0_0_ _._ _3_-1_ _4_-2_ _1_-3_  _0_0_ _._ _5_-1_ _9_-2_ _4_-3_  _1_0_ _._ _0_-1_\\n  Cu+  Cu2  _1_0_  _0_0_ _._ _3_-1_ _6_-2_  _0_0_ _._ _3_-1_ _4_-2_ _7_-3_  _0_0_ _._ _3_-1_ _4_-2_ _8_-3_  _1_0_ _._ _0_-1_\\n  Cu+  Cu3  _1_0_  _0_0_ _._ _3_-1_ _6_-2_ _1_-3_  _0_0_ _._ _8_-1_ _5_-2_ _3_-3_  _0_0_ _._ _6_-1_ _0_-2_ _9_-3_  _1_0_ _._ _0_-1_\\n  S2-  S4  _1_0_  _0_0_ _._ _0_-1_ _0_-2_ _1_-3_  _0_0_ _._ _9_-1_ _6_-2_ _3_-3_  _0_0_ _._ _3_-1_ _4_-2_ _2_-3_  _1_0_ _._ _0_-1_\\n  S2-  S5  _1_0_  _0_0_ _._ _2_-1_ _1_-2_ _8_-3_  _0_0_ _._ _7_-1_ _4_-2_ _9_-3_  _0_0_ _._ _8_-1_ _3_-2_ _9_-3_  _1_0_ _._ _0_-1_\\n  S2-  S6  _1_0_  _0_0_ _._ _4_-1_ _4_-2_ _5_-3_  _0_0_ _._ _4_-1_ _7_-2_ _1_-3_  _0_0_ _._ _3_-1_ _5_-2_ _8_-3_  _1_0_ _._ _0_-1_\\n  S2-  S7  _1_0_  _0_0_ _._ _7_-1_ _2_-2_ _1_-3_  _0_0_ _._ _1_-1_ _8_-2_ _8_-3_  _0_0_ _._ _8_-1_ _5_-2_ _3_-3_  _1_0_ _._ _0_-1_\\n\""
      ]
     },
     "execution_count": 224,
     "metadata": {},
     "output_type": "execute_result"
    }
   ],
   "source": [
    "new_c1 = num_tokenizer.num_matcher(c1)\n",
    "new_c1"
   ]
  },
  {
   "cell_type": "code",
   "execution_count": 170,
   "metadata": {},
   "outputs": [],
   "source": [
    "new_c1 = num_tokenizer.num_matcher(c1)"
   ]
  },
  {
   "cell_type": "code",
   "execution_count": 129,
   "metadata": {},
   "outputs": [],
   "source": [
    "tokens = num_tokenizer.tokenize(\"0.3\")\n"
   ]
  },
  {
   "cell_type": "code",
   "execution_count": 6,
   "metadata": {},
   "outputs": [],
   "source": [
    "import os\n",
    "import json\n",
    "import re\n",
    "\n",
    "CIF_VOCAB = os.path.join(\"/home/so87pot/n0w0f/xtal2txt/src/xtal2txt/vocabs/cif_vocab_rt.json\")\n",
    "def load_vocab(vocab):\n",
    "    with open(vocab, \"r\", encoding=\"utf-8\") as file:\n",
    "                    return json.load(file)\n",
    "vocab = load_vocab(CIF_VOCAB)"
   ]
  },
  {
   "cell_type": "code",
   "execution_count": 90,
   "metadata": {},
   "outputs": [],
   "source": [
    "tokens = list(vocab.keys())\n",
    "string_tokens = [token for token in tokens if isinstance(token, str)]\n",
    "string_tokens.sort(key=len, reverse=True)\n"
   ]
  },
  {
   "cell_type": "code",
   "execution_count": 93,
   "metadata": {},
   "outputs": [],
   "source": [
    "transformations = [\n",
    "    #(\"permute_structure\", {\"seed\": 42}),\n",
    "     (\"translate_single_atom\", {\"seed\": 42}),\n",
    "     (\"perturb_structure\", {\"seed\": 42, \"max_distance\":0.1}),\n",
    "     (\"translate_structure\", {\"seed\": 42, \"vector\": [0.1,0.1,0.1], \"frac_coords\": True}),\n",
    "    ]\n",
    "\n",
    "text_rep = TextRep.from_input(structure, transformations)\n",
    "c1 = text_rep.get_cif_string()"
   ]
  },
  {
   "cell_type": "code",
   "execution_count": null,
   "metadata": {},
   "outputs": [],
   "source": []
  },
  {
   "cell_type": "code",
   "execution_count": null,
   "metadata": {},
   "outputs": [],
   "source": []
  },
  {
   "cell_type": "code",
   "execution_count": null,
   "metadata": {},
   "outputs": [],
   "source": []
  },
  {
   "cell_type": "code",
   "execution_count": null,
   "metadata": {},
   "outputs": [],
   "source": [
    "\n",
    "import json\n",
    "\n",
    "# Open the text file and read the lines\n",
    "with open('/home/so87pot/n0w0f/xtal2txt/src/xtal2txt/vocabs/cif_vocab_rt.txt', 'r') as f:\n",
    "    lines = [line.strip() for line in f]\n",
    "\n",
    "# Create a dictionary where the keys are the lines and the values are sequential numbers\n",
    "data = {line: i for i, line in enumerate(lines, start=164)}\n",
    "\n",
    "# Write the dictionary to a JSON file\n",
    "with open('/home/so87pot/n0w0f/xtal2txt/src/xtal2txt/vocabs/cif_vocab_rt.json', 'w') as f:\n",
    "    json.dump(data, f)\n"
   ]
  },
  {
   "cell_type": "code",
   "execution_count": 3,
   "metadata": {},
   "outputs": [],
   "source": [
    "from xtal2txt.tokenizer import CifTokenizer"
   ]
  },
  {
   "cell_type": "code",
   "execution_count": 4,
   "metadata": {},
   "outputs": [],
   "source": [
    "transformations = None\n",
    "cif = TextRep.from_input(structure, transformations).get_cif_string()"
   ]
  },
  {
   "cell_type": "code",
   "execution_count": 5,
   "metadata": {},
   "outputs": [],
   "source": [
    "tokenizer = CifTokenizer(special_num_token=True,model_max_length=512, truncation=False, padding=False)"
   ]
  },
  {
   "cell_type": "code",
   "execution_count": 6,
   "metadata": {},
   "outputs": [
    {
     "data": {
      "text/plain": [
       "\"data_InCuS2\\n_symmetry_space_group_name_H-M   P1\\n_cell_length_a   5.52\\n_cell_length_b   5.52\\n_cell_length_c   6.796\\n_cell_angle_alpha   113.963\\n_cell_angle_beta   113.963\\n_cell_angle_gamma   90.0\\n_symmetry_Int_Tables_number   1\\n_chemical_formula_structural   InCuS2\\n_chemical_formula_sum   'In2 Cu2 S4'\\n_cell_volume   169.534\\n_cell_formula_units_Z   2\\nloop_\\n _symmetry_equiv_pos_site_id\\n _symmetry_equiv_pos_as_xyz\\n  1  'x, y, z'\\nloop_\\n _atom_type_symbol\\n _atom_type_oxidation_number\\n  In3+  3.0\\n  Cu+  1.0\\n  S2-  -2.0\\nloop_\\n _atom_site_type_symbol\\n _atom_site_label\\n _atom_site_symmetry_multiplicity\\n _atom_site_fract_x\\n _atom_site_fract_y\\n _atom_site_fract_z\\n _atom_site_occupancy\\n  In3+  In0  1  0.609  0.603  0.097  1.0\\n  In3+  In1  1  0.854  0.341  0.594  1.0\\n  Cu+  Cu2  1  0.36  0.347  0.348  1.0\\n  Cu+  Cu3  1  0.361  0.853  0.609  1.0\\n  S2-  S4  1  0.001  0.963  0.342  1.0\\n  S2-  S5  1  0.218  0.749  0.839  1.0\\n  S2-  S6  1  0.445  0.471  0.358  1.0\\n  S2-  S7  1  0.721  0.188  0.853  1.0\\n\""
      ]
     },
     "execution_count": 6,
     "metadata": {},
     "output_type": "execute_result"
    }
   ],
   "source": [
    "cif"
   ]
  },
  {
   "cell_type": "code",
   "execution_count": 7,
   "metadata": {},
   "outputs": [
    {
     "ename": "AttributeError",
     "evalue": "'CifTokenizer' object has no attribute 'vocab'",
     "output_type": "error",
     "traceback": [
      "\u001b[0;31m---------------------------------------------------------------------------\u001b[0m",
      "\u001b[0;31mAttributeError\u001b[0m                            Traceback (most recent call last)",
      "Cell \u001b[0;32mIn[7], line 1\u001b[0m\n\u001b[0;32m----> 1\u001b[0m \u001b[43mtokenizer\u001b[49m\u001b[38;5;241;43m.\u001b[39;49m\u001b[43mtokenize\u001b[49m\u001b[43m(\u001b[49m\u001b[43mcif\u001b[49m\u001b[43m)\u001b[49m\n",
      "File \u001b[0;32m~/n0w0f/xtal2txt/src/xtal2txt/tokenizer.py:149\u001b[0m, in \u001b[0;36mXtal2txtTokenizer.tokenize\u001b[0;34m(self, text)\u001b[0m\n\u001b[1;32m    146\u001b[0m \u001b[38;5;28;01mif\u001b[39;00m \u001b[38;5;28mself\u001b[39m\u001b[38;5;241m.\u001b[39mspecial_num_tokens:\n\u001b[1;32m    147\u001b[0m     text \u001b[38;5;241m=\u001b[39m \u001b[38;5;28mself\u001b[39m\u001b[38;5;241m.\u001b[39mget_special_num_tokens(text)\n\u001b[0;32m--> 149\u001b[0m tokens \u001b[38;5;241m=\u001b[39m \u001b[38;5;28mlist\u001b[39m(\u001b[38;5;28;43mself\u001b[39;49m\u001b[38;5;241;43m.\u001b[39;49m\u001b[43mvocab\u001b[49m\u001b[38;5;241m.\u001b[39mkeys())\n\u001b[1;32m    150\u001b[0m string_tokens \u001b[38;5;241m=\u001b[39m [token \u001b[38;5;28;01mfor\u001b[39;00m token \u001b[38;5;129;01min\u001b[39;00m tokens \u001b[38;5;28;01mif\u001b[39;00m \u001b[38;5;28misinstance\u001b[39m(token, \u001b[38;5;28mstr\u001b[39m)]\n\u001b[1;32m    151\u001b[0m string_tokens\u001b[38;5;241m.\u001b[39msort(key\u001b[38;5;241m=\u001b[39m\u001b[38;5;28mlen\u001b[39m, reverse\u001b[38;5;241m=\u001b[39m\u001b[38;5;28;01mTrue\u001b[39;00m)\n",
      "\u001b[0;31mAttributeError\u001b[0m: 'CifTokenizer' object has no attribute 'vocab'"
     ]
    }
   ],
   "source": [
    "tokenizer.tokenize(cif)"
   ]
  },
  {
   "cell_type": "code",
   "execution_count": null,
   "metadata": {},
   "outputs": [],
   "source": []
  }
 ],
 "metadata": {
  "kernelspec": {
   "display_name": "xtal2txt",
   "language": "python",
   "name": "python3"
  },
  "language_info": {
   "codemirror_mode": {
    "name": "ipython",
    "version": 3
   },
   "file_extension": ".py",
   "mimetype": "text/x-python",
   "name": "python",
   "nbconvert_exporter": "python",
   "pygments_lexer": "ipython3",
   "version": "3.9.18"
  }
 },
 "nbformat": 4,
 "nbformat_minor": 2
}
