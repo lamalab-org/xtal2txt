{
 "cells": [
  {
   "cell_type": "code",
   "execution_count": 2,
   "metadata": {},
   "outputs": [],
   "source": [
    "import json"
   ]
  },
  {
   "cell_type": "code",
   "execution_count": 3,
   "metadata": {},
   "outputs": [],
   "source": [
    "#function to load json\n",
    "def load_json(file):\n",
    "    with open(file) as f:\n",
    "        data = json.load(f)\n",
    "    return data"
   ]
  },
  {
   "cell_type": "code",
   "execution_count": 4,
   "metadata": {},
   "outputs": [],
   "source": [
    "data = load_json('/home/so87pot/n0w0f/structllm_data/qmof_filtered.json')"
   ]
  },
  {
   "cell_type": "code",
   "execution_count": 7,
   "metadata": {},
   "outputs": [
    {
     "data": {
      "text/plain": [
       "{'id': '6196c6e7a6be6ad338993951',\n",
       " 'structure': \"# generated using pymatgen\\ndata_Ba2CuH14(C3O8)2\\n_symmetry_space_group_name_H-M   'P 1'\\n_cell_length_a   6.94195231\\n_cell_length_b   7.17878940\\n_cell_length_c   8.79165165\\n_cell_angle_alpha   82.25599710\\n_cell_angle_beta   71.35701702\\n_cell_angle_gamma   81.58285545\\n_symmetry_Int_Tables_number   1\\n_chemical_formula_structural   Ba2CuH14(C3O8)2\\n_chemical_formula_sum   'Ba2 Cu1 H14 C6 O16'\\n_cell_volume   408.85747126\\n_cell_formula_units_Z   1\\nloop_\\n _symmetry_equiv_pos_site_id\\n _symmetry_equiv_pos_as_xyz\\n  1  'x, y, z'\\nloop_\\n _atom_site_type_symbol\\n _atom_site_label\\n _atom_site_symmetry_multiplicity\\n _atom_site_fract_x\\n _atom_site_fract_y\\n _atom_site_fract_z\\n _atom_site_occupancy\\n  Ba  Ba0  1  0.09830491  0.73435257  0.35340987  1\\n  Ba  Ba1  1  0.90169454  0.26564683  0.64659097  1\\n  Cu  Cu2  1  0.00000517  0.99999776  0.99999986  1\\n  H  H3  1  0.59629623  0.90436682  0.07226429  1\\n  H  H4  1  0.40370491  0.09563116  0.92773741  1\\n  H  H5  1  0.00460535  0.36603387  0.08997702  1\\n  H  H6  1  0.99539477  0.63395988  0.91001972  1\\n  H  H7  1  0.45740440  0.39774234  0.12471460  1\\n  H  H8  1  0.54259522  0.60225564  0.87527952  1\\n  H  H9  1  0.34667918  0.05719876  0.42535163  1\\n  H  H10  1  0.65332314  0.94280205  0.57465515  1\\n  H  H11  1  0.30121594  0.92728771  0.59164359  1\\n  H  H12  1  0.69878199  0.07271169  0.40836218  1\\n  H  H13  1  0.38406320  0.34763759  0.41905977  1\\n  H  H14  1  0.61593675  0.65235756  0.58094141  1\\n  H  H15  1  0.35028880  0.40454035  0.59270859  1\\n  H  H16  1  0.64970812  0.59546754  0.40729081  1\\n  C  C17  1  0.65178813  0.80750039  0.16207635  1\\n  C  C18  1  0.34821436  0.19249901  0.83792485  1\\n  C  C19  1  0.04497797  0.27531563  0.19007171  1\\n  C  C20  1  0.95502300  0.72468376  0.80992647  1\\n  C  C21  1  0.57703131  0.28113492  0.13766959  1\\n  C  C22  1  0.42296661  0.71886448  0.86232822  1\\n  O  O23  1  0.83700339  0.81494706  0.15897972  1\\n  O  O24  1  0.16299910  0.18505234  0.84102035  1\\n  O  O25  1  0.53521993  0.69684834  0.25823823  1\\n  O  O26  1  0.46478054  0.30315530  0.74176757  1\\n  O  O27  1  0.06417235  0.35074004  0.30403184  1\\n  O  O28  1  0.93581917  0.64926219  0.69596727  1\\n  O  O29  1  0.07041927  0.09574826  0.17915093  1\\n  O  O30  1  0.92959099  0.90424973  0.82084733  1\\n  O  O31  1  0.71897665  0.24145801  0.01129704  1\\n  O  O32  1  0.28102601  0.75853997  0.98870201  1\\n  O  O33  1  0.55542234  0.20130160  0.28060418  1\\n  O  O34  1  0.44457238  0.79869921  0.71939428  1\\n  O  O35  1  0.24143604  0.98685352  0.50576925  1\\n  O  O36  1  0.75856307  0.01314871  0.49423591  1\\n  O  O37  1  0.28603665  0.42259145  0.50474150  1\\n  O  O38  1  0.71396263  0.57740937  0.49525694  1\\n\",\n",
       " 'natoms': 39.0,\n",
       " 'pld': 0.68822,\n",
       " 'lcd': 1.3548,\n",
       " 'density': 2.76325,\n",
       " 'EgPBE': 0.632527,\n",
       " 'volume': 408.857}"
      ]
     },
     "execution_count": 7,
     "metadata": {},
     "output_type": "execute_result"
    }
   ],
   "source": [
    "data[0]"
   ]
  },
  {
   "cell_type": "code",
   "execution_count": 24,
   "metadata": {},
   "outputs": [],
   "source": [
    "from pymatgen.core.structure import Structure\n",
    "\n",
    "def dict_to_structure(structure_dict):\n",
    "    return Structure.from_dict(structure_dict).to(fmt='cif')\n",
    "\n",
    "def filter_data(data,number_of_atoms):\n",
    "    filtered_data = []\n",
    "    for entry in data:\n",
    "        if all(key in entry['data'] for key in ['natoms', 'pld', 'lcd', 'density', 'EgPBE', 'volume']):\n",
    "            if entry['data']['natoms']['value'] < number_of_atoms:\n",
    "                filtered_entry = {\n",
    "                    'id': entry['id'],\n",
    "                    'structure': dict_to_structure(entry['structure']),\n",
    "                    'natoms': entry['data']['natoms']['value'],\n",
    "                    'pld': entry['data']['pld']['value'],\n",
    "                    'lcd': entry['data']['lcd']['value'],\n",
    "                    'density': entry['data']['density']['value'],\n",
    "                    'EgPBE': entry['data']['EgPBE']['value'],\n",
    "                    'volume': entry['data']['volume']['value'],\n",
    "                }\n",
    "                filtered_data.append(filtered_entry)\n",
    "    return filtered_data\n",
    "\n",
    "# code  to call filter data and save json\n",
    "data = load_json('/home/so87pot/n0w0f/structllm/src/structllm/dataprep/qmof_dataset/screened_mofs.json')\n",
    "\n",
    "filtered_data = filter_data(data,100)\n",
    "with open('filtered_data.json', 'w') as f:\n",
    "    json.dump(filtered_data, f, indent=4)"
   ]
  },
  {
   "cell_type": "code",
   "execution_count": 25,
   "metadata": {},
   "outputs": [
    {
     "data": {
      "text/plain": [
       "{'id': '6196c6e7a6be6ad338993951',\n",
       " 'structure': \"# generated using pymatgen\\ndata_Ba2CuH14(C3O8)2\\n_symmetry_space_group_name_H-M   'P 1'\\n_cell_length_a   6.94195231\\n_cell_length_b   7.17878940\\n_cell_length_c   8.79165165\\n_cell_angle_alpha   82.25599710\\n_cell_angle_beta   71.35701702\\n_cell_angle_gamma   81.58285545\\n_symmetry_Int_Tables_number   1\\n_chemical_formula_structural   Ba2CuH14(C3O8)2\\n_chemical_formula_sum   'Ba2 Cu1 H14 C6 O16'\\n_cell_volume   408.85747126\\n_cell_formula_units_Z   1\\nloop_\\n _symmetry_equiv_pos_site_id\\n _symmetry_equiv_pos_as_xyz\\n  1  'x, y, z'\\nloop_\\n _atom_site_type_symbol\\n _atom_site_label\\n _atom_site_symmetry_multiplicity\\n _atom_site_fract_x\\n _atom_site_fract_y\\n _atom_site_fract_z\\n _atom_site_occupancy\\n  Ba  Ba0  1  0.09830491  0.73435257  0.35340987  1\\n  Ba  Ba1  1  0.90169454  0.26564683  0.64659097  1\\n  Cu  Cu2  1  0.00000517  0.99999776  0.99999986  1\\n  H  H3  1  0.59629623  0.90436682  0.07226429  1\\n  H  H4  1  0.40370491  0.09563116  0.92773741  1\\n  H  H5  1  0.00460535  0.36603387  0.08997702  1\\n  H  H6  1  0.99539477  0.63395988  0.91001972  1\\n  H  H7  1  0.45740440  0.39774234  0.12471460  1\\n  H  H8  1  0.54259522  0.60225564  0.87527952  1\\n  H  H9  1  0.34667918  0.05719876  0.42535163  1\\n  H  H10  1  0.65332314  0.94280205  0.57465515  1\\n  H  H11  1  0.30121594  0.92728771  0.59164359  1\\n  H  H12  1  0.69878199  0.07271169  0.40836218  1\\n  H  H13  1  0.38406320  0.34763759  0.41905977  1\\n  H  H14  1  0.61593675  0.65235756  0.58094141  1\\n  H  H15  1  0.35028880  0.40454035  0.59270859  1\\n  H  H16  1  0.64970812  0.59546754  0.40729081  1\\n  C  C17  1  0.65178813  0.80750039  0.16207635  1\\n  C  C18  1  0.34821436  0.19249901  0.83792485  1\\n  C  C19  1  0.04497797  0.27531563  0.19007171  1\\n  C  C20  1  0.95502300  0.72468376  0.80992647  1\\n  C  C21  1  0.57703131  0.28113492  0.13766959  1\\n  C  C22  1  0.42296661  0.71886448  0.86232822  1\\n  O  O23  1  0.83700339  0.81494706  0.15897972  1\\n  O  O24  1  0.16299910  0.18505234  0.84102035  1\\n  O  O25  1  0.53521993  0.69684834  0.25823823  1\\n  O  O26  1  0.46478054  0.30315530  0.74176757  1\\n  O  O27  1  0.06417235  0.35074004  0.30403184  1\\n  O  O28  1  0.93581917  0.64926219  0.69596727  1\\n  O  O29  1  0.07041927  0.09574826  0.17915093  1\\n  O  O30  1  0.92959099  0.90424973  0.82084733  1\\n  O  O31  1  0.71897665  0.24145801  0.01129704  1\\n  O  O32  1  0.28102601  0.75853997  0.98870201  1\\n  O  O33  1  0.55542234  0.20130160  0.28060418  1\\n  O  O34  1  0.44457238  0.79869921  0.71939428  1\\n  O  O35  1  0.24143604  0.98685352  0.50576925  1\\n  O  O36  1  0.75856307  0.01314871  0.49423591  1\\n  O  O37  1  0.28603665  0.42259145  0.50474150  1\\n  O  O38  1  0.71396263  0.57740937  0.49525694  1\\n\",\n",
       " 'natoms': 39.0,\n",
       " 'pld': 0.68822,\n",
       " 'lcd': 1.3548,\n",
       " 'density': 2.76325,\n",
       " 'EgPBE': 0.632527,\n",
       " 'volume': 408.857}"
      ]
     },
     "execution_count": 25,
     "metadata": {},
     "output_type": "execute_result"
    }
   ],
   "source": [
    "filtered_data[0]"
   ]
  },
  {
   "cell_type": "code",
   "execution_count": 1,
   "metadata": {},
   "outputs": [],
   "source": [
    "from pymatgen.core import Structure"
   ]
  },
  {
   "cell_type": "code",
   "execution_count": 2,
   "metadata": {},
   "outputs": [],
   "source": [
    "from_file  = \"/home/so87pot/n0w0f/xtal2txt/tests/data/InCuS2_p1.cif\"\n",
    "structure = Structure.from_file(str(from_file), \"cif\")"
   ]
  },
  {
   "cell_type": "code",
   "execution_count": 3,
   "metadata": {},
   "outputs": [
    {
     "data": {
      "text/plain": [
       "Structure Summary\n",
       "Lattice\n",
       "    abc : 5.52040491 5.52040491 6.7959803201326165\n",
       " angles : 113.96335098610967 113.96335098610967 90.0\n",
       " volume : 169.53429042489148\n",
       "      A : 5.52040491 -0.0 -0.0\n",
       "      B : -3.380273101514416e-16 5.52040491 3.380273101514416e-16\n",
       "      C : -2.7602024549999995 -2.760202455 5.563084875\n",
       "    pbc : True True True\n",
       "PeriodicSite: Cu4 (Cu+) (-6.882e-17, 2.76, 2.782) [0.25, 0.75, 0.5]\n",
       "PeriodicSite: Cu5 (Cu+) (0.0, 0.0, 0.0) [0.0, 0.0, 0.0]\n",
       "PeriodicSite: In0 (In3+) (2.76, 2.76, 1.69e-16) [0.5, 0.5, 0.0]\n",
       "PeriodicSite: In1 (In3+) (2.76, -7.194e-16, 2.782) [0.75, 0.25, 0.5]\n",
       "PeriodicSite: S8 (S2-) (4.299, 4.14, 1.391) [0.9038, 0.875, 0.25]\n",
       "PeriodicSite: S9 (S2-) (1.38, -1.539, 4.172) [0.625, 0.0962, 0.75]\n",
       "PeriodicSite: S10 (S2-) (1.221, 1.38, 1.391) [0.3462, 0.375, 0.25]\n",
       "PeriodicSite: S11 (S2-) (-1.38, 1.539, 4.172) [0.125, 0.6538, 0.75]"
      ]
     },
     "execution_count": 3,
     "metadata": {},
     "output_type": "execute_result"
    }
   ],
   "source": [
    "structure"
   ]
  },
  {
   "cell_type": "code",
   "execution_count": 4,
   "metadata": {},
   "outputs": [
    {
     "name": "stderr",
     "output_type": "stream",
     "text": [
      "2024-04-20 21:20:11.710080: E external/local_xla/xla/stream_executor/cuda/cuda_dnn.cc:9261] Unable to register cuDNN factory: Attempting to register factory for plugin cuDNN when one has already been registered\n",
      "2024-04-20 21:20:11.710904: E external/local_xla/xla/stream_executor/cuda/cuda_fft.cc:607] Unable to register cuFFT factory: Attempting to register factory for plugin cuFFT when one has already been registered\n",
      "2024-04-20 21:20:11.920831: E external/local_xla/xla/stream_executor/cuda/cuda_blas.cc:1515] Unable to register cuBLAS factory: Attempting to register factory for plugin cuBLAS when one has already been registered\n"
     ]
    },
    {
     "name": "stdout",
     "output_type": "stream",
     "text": [
      "WARNING:tensorflow:From /home/so87pot/miniconda3/envs/xtal2/lib/python3.9/site-packages/tensorflow/python/util/deprecation.py:588: calling function (from tensorflow.python.eager.polymorphic_function.polymorphic_function) with experimental_relax_shapes is deprecated and will be removed in a future version.\n",
      "Instructions for updating:\n",
      "experimental_relax_shapes is deprecated, use reduce_retracing instead\n"
     ]
    },
    {
     "name": "stderr",
     "output_type": "stream",
     "text": [
      "Reading file /home/so87pot/miniconda3/envs/xtal2/lib/python3.9/site-packages/robocrys/condense/mineral_db.json.gz: 0it [00:00, ?it/s]##3   | 114/180 [00:00<00:00, 604.30it/s]\n",
      "Decoding objects from /home/so87pot/miniconda3/envs/xtal2/lib/python3.9/site-packages/robocrys/condense/mineral_db.json.gz: 100%|##########| 180/180 [00:00<00:00, 593.53it/s]\n"
     ]
    }
   ],
   "source": [
    "from xtal2txt.core import TextRep"
   ]
  },
  {
   "cell_type": "code",
   "execution_count": 8,
   "metadata": {},
   "outputs": [],
   "source": [
    "transformations = [\n",
    "    #(\"permute_structure\", {\"seed\": 42}),\n",
    "     (\"translate_single_atom\", {\"seed\": 42}),\n",
    "     (\"perturb_structure\", {\"seed\": 42, \"max_distance\":0.1}),\n",
    "     (\"translate_structure\", {\"seed\": 42, \"vector\": [0.1,0.1,0.1], \"frac_coords\": True}),\n",
    "    ]\n",
    "\n",
    "text_rep = TextRep.from_input(structure, transformations)"
   ]
  },
  {
   "cell_type": "code",
   "execution_count": 9,
   "metadata": {},
   "outputs": [
    {
     "data": {
      "text/plain": [
       "Structure Summary\n",
       "Lattice\n",
       "    abc : 5.52040491 5.52040491 6.7959803201326165\n",
       " angles : 113.96335098610967 113.96335098610967 90.0\n",
       " volume : 169.53429042489148\n",
       "      A : 5.52040491 -0.0 -0.0\n",
       "      B : -3.380273101514416e-16 5.52040491 3.380273101514416e-16\n",
       "      C : -2.7602024549999995 -2.760202455 5.563084875\n",
       "    pbc : True True True\n",
       "PeriodicSite: Cu4 (Cu+) (0.3528, 3.015, 3.438) [0.3729, 0.8551, 0.618]\n",
       "PeriodicSite: Cu5 (Cu+) (1.781, 1.637, 3.319) [0.6209, 0.5948, 0.5965]\n",
       "PeriodicSite: In0 (In3+) (3.147, 3.09, 0.5233) [0.6172, 0.6068, 0.09406]\n",
       "PeriodicSite: In1 (In3+) (3.118, 0.2065, 3.268) [0.8585, 0.3311, 0.5874]\n",
       "PeriodicSite: S8 (S2-) (4.587, 4.322, 1.862) [0.9983, 0.9502, 0.3347]\n",
       "PeriodicSite: S9 (S2-) (1.596, -1.371, 4.762) [0.7172, 0.1797, 0.856]\n",
       "PeriodicSite: S10 (S2-) (1.445, 1.575, 2.031) [0.4443, 0.4679, 0.3651]\n",
       "PeriodicSite: S11 (S2-) (-1.124, 1.821, 4.602) [0.21, 0.7435, 0.8273]"
      ]
     },
     "execution_count": 9,
     "metadata": {},
     "output_type": "execute_result"
    }
   ],
   "source": [
    "text_rep.structure"
   ]
  },
  {
   "cell_type": "code",
   "execution_count": 5,
   "metadata": {},
   "outputs": [],
   "source": [
    "x = TextRep(structure)"
   ]
  },
  {
   "cell_type": "code",
   "execution_count": 6,
   "metadata": {},
   "outputs": [
    {
     "data": {
      "text/plain": [
       "\"data_InCuS2\\n_symmetry_space_group_name_H-M   I-42d\\n_cell_length_a   5.52\\n_cell_length_b   5.52\\n_cell_length_c   11.126\\n_cell_angle_alpha   90.0\\n_cell_angle_beta   90.0\\n_cell_angle_gamma   90.0\\n_symmetry_Int_Tables_number   122\\n_chemical_formula_structural   InCuS2\\n_chemical_formula_sum   'In4 Cu4 S8'\\n_cell_volume   339.069\\n_cell_formula_units_Z   4\\nloop_\\n _symmetry_equiv_pos_site_id\\n _symmetry_equiv_pos_as_xyz\\n  1  'x, y, z'\\n  2  'y, -x, -z'\\n  3  '-x, -y, z'\\n  4  '-y, x, -z'\\n  5  'x, -y+1/2, -z+1/4'\\n  6  'y, x+1/2, z+1/4'\\n  7  '-x, y+1/2, -z+1/4'\\n  8  '-y, -x+1/2, z+1/4'\\n  9  'x+1/2, y+1/2, z+1/2'\\n  10  'y+1/2, -x+1/2, -z+1/2'\\n  11  '-x+1/2, -y+1/2, z+1/2'\\n  12  '-y+1/2, x+1/2, -z+1/2'\\n  13  'x+1/2, -y, -z+3/4'\\n  14  'y+1/2, x, z+3/4'\\n  15  '-x+1/2, y, -z+3/4'\\n  16  '-y+1/2, -x, z+3/4'\\nloop_\\n _atom_type_symbol\\n _atom_type_oxidation_number\\n  In3+  3.0\\n  Cu+  1.0\\n  S2-  -2.0\\nloop_\\n _atom_site_type_symbol\\n _atom_site_label\\n _atom_site_symmetry_multiplicity\\n _atom_site_fract_x\\n _atom_site_fract_y\\n _atom_site_fract_z\\n _atom_site_occupancy\\n  In3+  In0  4  0.0  0.0  0.5  1.0\\n  Cu+  Cu1  4  0.0  0.0  0.0  1.0\\n  S2-  S2  8  0.221  0.75  0.125  1.0\\n\""
      ]
     },
     "execution_count": 6,
     "metadata": {},
     "output_type": "execute_result"
    }
   ],
   "source": [
    "x.get_cif_string()"
   ]
  },
  {
   "cell_type": "code",
   "execution_count": null,
   "metadata": {},
   "outputs": [],
   "source": [
    "structure.perturb(distance=0.1,)"
   ]
  },
  {
   "cell_type": "code",
   "execution_count": 8,
   "metadata": {},
   "outputs": [],
   "source": [
    "structure.translate_sites(indices=[0], vector=[0.25, 0.25, 0.25],frac_coords=True)"
   ]
  },
  {
   "cell_type": "code",
   "execution_count": 99,
   "metadata": {},
   "outputs": [],
   "source": [
    "from pymatgen.core.structure import Molecule\n",
    "\n",
    "species = [s.element for s in structure.species]\n",
    "coords = [c for c in structure.cart_coords]\n",
    "molecule_ = Molecule(species, coords, )\n",
    "zmatrix = molecule_.get_zmatrix()"
   ]
  },
  {
   "cell_type": "code",
   "execution_count": 90,
   "metadata": {},
   "outputs": [],
   "source": [
    "def updated_zmatrix_rep(zmatrix, decimal_places=1):\n",
    "    lines = zmatrix.split('\\n')\n",
    "    main_part = []\n",
    "    variables_part = []\n",
    "\n",
    "    # Determine the main part and the variables part of the Z-matrix\n",
    "    for line in lines:\n",
    "        if '=' in line:\n",
    "            variables_part.append(line)\n",
    "        else:\n",
    "            if line.strip():  # Skip empty lines\n",
    "                main_part.append(line)\n",
    "\n",
    "    # Extract variables from the variables part\n",
    "    variable_dict = {}\n",
    "    for var_line in variables_part:\n",
    "        var, value = var_line.split('=')\n",
    "        if var.startswith('B'):\n",
    "            rounded_value = round(float(value.strip()), decimal_places)\n",
    "        else:\n",
    "            rounded_value = int(round(float(value.strip())))\n",
    "        variable_dict[var] = f\"{rounded_value}\" if var.startswith(('A', 'D')) else f\"{rounded_value:.{decimal_places}f}\"\n",
    "\n",
    "    # Replace variables in the main part\n",
    "    replaced_lines = []\n",
    "    for line in main_part:\n",
    "        parts = line.split()\n",
    "        atom = parts[0]\n",
    "        replaced_line = line\n",
    "        for i in range(1, len(parts)):\n",
    "            var = parts[i]\n",
    "            if var in variable_dict:\n",
    "                replaced_line = replaced_line.replace(var, variable_dict[var])\n",
    "        replaced_lines.append(replaced_line)\n",
    "\n",
    "    return '\\n'.join(replaced_lines)\n",
    "\n"
   ]
  },
  {
   "cell_type": "code",
   "execution_count": 91,
   "metadata": {},
   "outputs": [],
   "source": [
    "updated_zmatrix = replace_zmatrix_variables(zmatrix)"
   ]
  },
  {
   "cell_type": "code",
   "execution_count": 92,
   "metadata": {},
   "outputs": [
    {
     "data": {
      "text/plain": [
       "'Cu+\\nCu+ 1 3.9\\nIn3+ 2 3.9 1 60\\nIn3+ 1 3.9 2 60 3 -71\\nS2- 3 2.5 4 90 1 93\\nS2- 4 2.5 2 90 1 93\\nS2- 1 2.3 2 32 3 -35\\nS2- 1 2.3 7 111 6 -32'"
      ]
     },
     "execution_count": 92,
     "metadata": {},
     "output_type": "execute_result"
    }
   ],
   "source": [
    "updated_zmatrix"
   ]
  },
  {
   "cell_type": "code",
   "execution_count": 93,
   "metadata": {},
   "outputs": [],
   "source": [
    "molecule_.get_zmatrix()\n",
    "#write this into a  txt file \n",
    "with open(\"/Users/n0w0f/git/n0w0f/xtal2txt/notebooks/molecule.txt\", \"w\") as f:\n",
    "    f.write(updated_zmatrix)\n"
   ]
  },
  {
   "cell_type": "code",
   "execution_count": 23,
   "metadata": {},
   "outputs": [],
   "source": [
    "struct = Structure.from_str(\"data_ZnMoCl2\\n_symmetry_space_group_name_H-M   'P 1'\\n_cell_length_a   3.65\\n_cell_length_b   3.23\\n_cell_length_c   7.1\\n_cell_angle_alpha   90.0\\n_cell_angle_beta   101.56\\n_cell_angle_gamma   90.0\\n_symmetry_Int_Tables_number   1\\n_chemical_formula_structural   ZnMoCl2\\n_chemical_formula_sum   'Zn1 Mo1 Cl2'\\n_cell_volume   82.06\\n_cell_formula_units_Z   1\\nloop_\\n _symmetry_equiv_pos_site_id\\n _symmetry_equiv_pos_as_xyz\\n  1  'x, y, z'\\nloop_\\n _atom_site_type_symbol\\n _atom_site_label\\n _atom_site_symmetry_multiplicity\\n _atom_site_fract_x\\n _atom_site_fract_y\\n _atom_site_fract_z\\n _atom_site_occupancy\\n  Zn  Zn3  1  0.25  0.0  0.02  1.0\\n  Mo  Mo2  1  0.43  0.62  0.04  1.0\\n  Cl  Cl0  1  0.15  0.62  0.56  1.0\\n  Cl  Cl1  1  0.51  0.0  0.82  1.0\\n\", fmt=\"cif\")"
   ]
  },
  {
   "cell_type": "code",
   "execution_count": 29,
   "metadata": {},
   "outputs": [
    {
     "data": {
      "text/plain": [
       "Structure Summary\n",
       "Lattice\n",
       "    abc : 3.65 3.23 7.1\n",
       " angles : 90.0 101.56000000000002 90.0\n",
       " volume : 82.0075175703201\n",
       "      A : 3.5759611725600706 0.0 -0.7314380987772003\n",
       "      B : -1.9778045806229754e-16 3.23 1.9778045806229754e-16\n",
       "      C : 0.0 0.0 7.1\n",
       "    pbc : True True True\n",
       "PeriodicSite: Zn3 (Zn) (0.894, 0.0, -0.04086) [0.25, 0.0, 0.02]\n",
       "PeriodicSite: Mo2 (Mo) (1.538, 2.003, -0.03052) [0.43, 0.62, 0.04]\n",
       "PeriodicSite: Cl0 (Cl) (0.5364, 2.003, 3.866) [0.15, 0.62, 0.56]\n",
       "PeriodicSite: Cl1 (Cl) (1.824, 0.0, 5.449) [0.51, 0.0, 0.82]"
      ]
     },
     "execution_count": 29,
     "metadata": {},
     "output_type": "execute_result"
    }
   ],
   "source": [
    "struct"
   ]
  },
  {
   "cell_type": "code",
   "execution_count": 27,
   "metadata": {},
   "outputs": [],
   "source": [
    "species_ =  [s for s in structure.species]"
   ]
  },
  {
   "cell_type": "code",
   "execution_count": 28,
   "metadata": {},
   "outputs": [
    {
     "data": {
      "text/plain": [
       "[Species Cu+,\n",
       " Species Cu+,\n",
       " Species In3+,\n",
       " Species In3+,\n",
       " Species S2-,\n",
       " Species S2-,\n",
       " Species S2-,\n",
       " Species S2-]"
      ]
     },
     "execution_count": 28,
     "metadata": {},
     "output_type": "execute_result"
    }
   ],
   "source": [
    "species_"
   ]
  },
  {
   "cell_type": "code",
   "execution_count": null,
   "metadata": {},
   "outputs": [],
   "source": [
    "from scipy.spatial.distance import squareform\n",
    "\n",
    "def get_distance(self, i: int, j: int) -> float:\n",
    "        \"\"\"Get distance between site i and j.\n",
    "\n",
    "        Args:\n",
    "            i (int): 1st site index\n",
    "            j (int): 2nd site index\n",
    "\n",
    "        Returns:\n",
    "            Distance between the two sites.\n",
    "        \"\"\"\n",
    "        return self[i].distance(self[j])\n",
    "\n",
    "def _find_nn_pos_before_site(self, site_idx):\n",
    "        \"\"\"Returns index of nearest neighbor atoms.\"\"\"\n",
    "        all_dist = [(self.get_distance(site_idx, idx), idx) for idx in range(site_idx)]\n",
    "        all_dist = sorted(all_dist, key=lambda x: x[0])\n",
    "        return [d[1] for d in all_dist]\n",
    "\n",
    "def get_zmatrix(self, molecule, decimal_places=6):\n",
    "    \"\"\"Returns a z-matrix representation of the molecule.\"\"\"\n",
    "    output = []\n",
    "    output_var = []\n",
    "    for idx, site in enumerate(molecule):\n",
    "        if idx == 0:\n",
    "            output.append(f\"{site.specie}\")\n",
    "        else:\n",
    "            nn = self._find_nn_pos_before_site(molecule, idx)\n",
    "            bond_length = molecule.get_distance(idx, nn[0])\n",
    "            bond_length_str = f\"{bond_length:.{decimal_places}f}\"\n",
    "            bond_rep = f\"{nn[0] + 1} {bond_length_str}\"\n",
    "            bond_var = f\"B{idx}={bond_length_str}\"\n",
    "            if idx == 1:\n",
    "                output.append(f\"{molecule[idx].specie} {bond_rep}\")\n",
    "            elif idx == 2:\n",
    "                angle = molecule.get_angle(idx, nn[0], nn[1])\n",
    "                angle_str = f\"{angle:.{decimal_places}f}\"\n",
    "                output.append(f\"{molecule[idx].specie} {bond_rep} {nn[1] + 1} {angle_str}\")\n",
    "                output_var.append(f\"A{idx}={angle_str}\")\n",
    "            else:\n",
    "                angle = molecule.get_angle(idx, nn[0], nn[1])\n",
    "                angle_str = f\"{angle:.{decimal_places}f}\"\n",
    "                dihedral = molecule.get_dihedral(idx, nn[0], nn[1], nn[2])\n",
    "                dihedral_str = f\"{dihedral:.{decimal_places}f}\"\n",
    "                output.append(f\"{molecule[idx].specie} {bond_rep} {nn[1] + 1} {angle_str} {nn[2] + 1} {dihedral_str}\")\n",
    "                output_var.extend([f\"A{idx}={angle_str}\", f\"D{idx}={dihedral_str}\"])\n",
    "            output_var.append(bond_var)\n",
    "    return \"\\n\".join(output) + \"\\n\\n\" + \"\\n\".join(output_var)\n"
   ]
  },
  {
   "cell_type": "code",
   "execution_count": null,
   "metadata": {},
   "outputs": [],
   "source": []
  },
  {
   "cell_type": "code",
   "execution_count": 1,
   "metadata": {},
   "outputs": [
    {
     "name": "stderr",
     "output_type": "stream",
     "text": [
      "/home/so87pot/miniconda3/envs/xtal2/lib/python3.9/site-packages/tqdm/auto.py:21: TqdmWarning: IProgress not found. Please update jupyter and ipywidgets. See https://ipywidgets.readthedocs.io/en/stable/user_install.html\n",
      "  from .autonotebook import tqdm as notebook_tqdm\n"
     ]
    }
   ],
   "source": [
    "from xtal2txt.tokenizer import SliceTokenizer"
   ]
  },
  {
   "cell_type": "code",
   "execution_count": 2,
   "metadata": {},
   "outputs": [],
   "source": [
    "tokenizer = SliceTokenizer(\n",
    "                    model_max_length=512, truncation=True, padding=\"max_length\", max_length=512\n",
    "                )"
   ]
  },
  {
   "cell_type": "code",
   "execution_count": 7,
   "metadata": {},
   "outputs": [
    {
     "data": {
      "text/plain": [
       "149"
      ]
     },
     "execution_count": 7,
     "metadata": {},
     "output_type": "execute_result"
    }
   ],
   "source": [
    "tokenizer.cls_token_id"
   ]
  },
  {
   "cell_type": "code",
   "execution_count": 6,
   "metadata": {},
   "outputs": [],
   "source": [
    "from datasets import load_dataset\n",
    "#path= \"/work/so87pot/material_db/qmof_text/qmof_filtered_text.json\"\n",
    "path=\"/work/so87pot/material_db/qmof_text/bandgap/train.json\"\n",
    "ds = load_dataset(\"json\", data_files=path,split=\"train\")\n"
   ]
  },
  {
   "cell_type": "code",
   "execution_count": 7,
   "metadata": {},
   "outputs": [
    {
     "data": {
      "text/plain": [
       "Dataset({\n",
       "    features: ['composition', 'pld', 'crystal_llm_rep', 'natoms', 'atoms_params', 'lcd', 'id', 'slice', 'cif_symmetrized', 'volume', 'atoms', 'labels', 'zmatrix', 'cif_p1', 'density'],\n",
       "    num_rows: 8600\n",
       "})"
      ]
     },
     "execution_count": 7,
     "metadata": {},
     "output_type": "execute_result"
    }
   ],
   "source": [
    "ds"
   ]
  },
  {
   "cell_type": "code",
   "execution_count": 8,
   "metadata": {},
   "outputs": [],
   "source": [
    "_DEFAULT_SPECIAL_TOKENS = {\n",
    "    \"unk_token\": \"[UNK]\",\n",
    "    \"pad_token\": \"[PAD]\",\n",
    "    \"cls_token\": \"[CLS]\",\n",
    "    \"sep_token\": \"[SEP]\",\n",
    "    \"mask_token\": \"[MASK]\",\n",
    "    \"eos_token\": \"[EOS]\",\n",
    "    \"bos_token\": \"[BOS]\",\n",
    "}\n",
    "tokenizer = SliceTokenizer(\n",
    "                    model_max_length=512, truncation=True, padding=\"max_length\", special_tokens=_DEFAULT_SPECIAL_TOKENS, max_length=512\n",
    "                )"
   ]
  },
  {
   "cell_type": "code",
   "execution_count": 9,
   "metadata": {},
   "outputs": [],
   "source": [
    "\n",
    "def _tokenize( examples):\n",
    "        # Tokenize the 'crystal_llm' column using the LAMA tokenizer\n",
    "        tokenized_examples = tokenizer(\n",
    "            examples[\"slice\"], truncation=True, padding=True\n",
    "        )\n",
    "\n",
    "        # Convert input_ids list to tensor and then to torch.float16\n",
    "        # tokenized_examples[\"input_ids\"] = torch.tensor(tokenized_examples[\"input_ids\"]).to(torch.float16)\n",
    "        # tokenized_examples[\"attention_mask\"] = torch.tensor(tokenized_examples[\"attention_mask\"]).to(torch.float16)\n",
    "        \n",
    "        # # Check if \"labels\" key exists before trying to convert it to float16\n",
    "        # if \"labels\" in tokenized_examples:\n",
    "        #     tokenized_examples[\"labels\"] = torch.tensor(tokenized_examples[\"labels\"]).to(torch.float16)\n",
    "\n",
    "        return tokenized_examples"
   ]
  },
  {
   "cell_type": "code",
   "execution_count": 10,
   "metadata": {},
   "outputs": [
    {
     "name": "stderr",
     "output_type": "stream",
     "text": [
      "Parameter 'function'=<function _tokenize at 0x7f0dcca26160> of the transform datasets.arrow_dataset.Dataset._map_single couldn't be hashed properly, a random hash was used instead. Make sure your transforms and parameters are serializable with pickle or dill for the dataset fingerprinting and caching to work. If you reuse this transform, the caching mechanism will consider it to be different from the previous calls and recompute everything. This warning is only showed once. Subsequent hashing failures won't be showed.\n",
      "Map: 100%|██████████| 8600/8600 [00:07<00:00, 1143.87 examples/s]\n"
     ]
    }
   ],
   "source": [
    "dataset = ds.map(_tokenize, batched=True)"
   ]
  },
  {
   "cell_type": "code",
   "execution_count": 11,
   "metadata": {},
   "outputs": [
    {
     "data": {
      "text/plain": [
       "Dataset({\n",
       "    features: ['composition', 'pld', 'crystal_llm_rep', 'natoms', 'atoms_params', 'lcd', 'id', 'slice', 'cif_symmetrized', 'volume', 'atoms', 'labels', 'zmatrix', 'cif_p1', 'density', 'input_ids', 'token_type_ids', 'attention_mask'],\n",
       "    num_rows: 8600\n",
       "})"
      ]
     },
     "execution_count": 11,
     "metadata": {},
     "output_type": "execute_result"
    }
   ],
   "source": [
    "dataset"
   ]
  },
  {
   "cell_type": "code",
   "execution_count": 13,
   "metadata": {},
   "outputs": [
    {
     "data": {
      "text/plain": [
       "'Cu Cu H H H H H H H H H H H H H H H H H H H H C C C C C C C C C C C C C C C C C C C C C C C C N N N N N N N N O O O O O O O O O O O O 0 48 - - o 0 53 - o o 0 51 o - + 0 46 o o + 1 50 o o o 1 47 o o o 1 49 o o o 1 52 o o o 2 42 o - o 3 43 o o o 4 44 o + o 5 45 o o o 6 38 o o o 7 39 o o o 8 40 o o o 9 41 o o o 10 38 o o o 11 39 o o o 12 40 o o o 13 41 o o o 14 42 o o o 15 43 o o o 16 44 o o o 17 45 o o o 18 62 o o o 19 63 o o o 20 64 o o o 21 65 o o o 22 46 o o o 22 30 o o o 23 31 o o o 23 47 o o o 24 32 o o o 24 48 o o o 25 49 o o o 25 33 o o o 26 30 o o o 26 50 o o o 27 51 o o o 27 31 o o o 28 52 o o o 28 32 o o o 29 33 o o o 29 53 o o o 30 34 o - o 31 35 o o - 32 36 o + o 33 37 o o + 34 54 o o o 34 58 o o o 35 59 o o o 35 55 o o + 36 60 o o o 36 56 o o o 37 57 o o - 37 61 o o o 38 58 o o o 39 59 o o o 40 60 o o o 41 61 o o o '"
      ]
     },
     "execution_count": 13,
     "metadata": {},
     "output_type": "execute_result"
    }
   ],
   "source": [
    "ds['slice'][0]"
   ]
  },
  {
   "cell_type": "code",
   "execution_count": 15,
   "metadata": {},
   "outputs": [
    {
     "data": {
      "text/plain": [
       "352"
      ]
     },
     "execution_count": 15,
     "metadata": {},
     "output_type": "execute_result"
    }
   ],
   "source": [
    "len(tokenizer.tokenize(ds['slice'][0]))"
   ]
  },
  {
   "cell_type": "code",
   "execution_count": 16,
   "metadata": {},
   "outputs": [],
   "source": [
    "tokens = dataset['input_ids'][0]"
   ]
  },
  {
   "cell_type": "code",
   "execution_count": 17,
   "metadata": {},
   "outputs": [
    {
     "data": {
      "text/plain": [
       "[151,\n",
       " 55,\n",
       " 55,\n",
       " 27,\n",
       " 27,\n",
       " 27,\n",
       " 27,\n",
       " 27,\n",
       " 27,\n",
       " 27,\n",
       " 27,\n",
       " 27,\n",
       " 27,\n",
       " 27,\n",
       " 27,\n",
       " 27,\n",
       " 27,\n",
       " 27,\n",
       " 27,\n",
       " 27,\n",
       " 27,\n",
       " 27,\n",
       " 27,\n",
       " 32,\n",
       " 32,\n",
       " 32,\n",
       " 32,\n",
       " 32,\n",
       " 32,\n",
       " 32,\n",
       " 32,\n",
       " 32,\n",
       " 32,\n",
       " 32,\n",
       " 32,\n",
       " 32,\n",
       " 32,\n",
       " 32,\n",
       " 32,\n",
       " 32,\n",
       " 32,\n",
       " 32,\n",
       " 32,\n",
       " 32,\n",
       " 32,\n",
       " 32,\n",
       " 32,\n",
       " 33,\n",
       " 33,\n",
       " 33,\n",
       " 33,\n",
       " 33,\n",
       " 33,\n",
       " 33,\n",
       " 33,\n",
       " 34,\n",
       " 34,\n",
       " 34,\n",
       " 34,\n",
       " 34,\n",
       " 34,\n",
       " 34,\n",
       " 34,\n",
       " 34,\n",
       " 34,\n",
       " 34,\n",
       " 34,\n",
       " 139,\n",
       " 143,\n",
       " 147,\n",
       " 24,\n",
       " 139,\n",
       " 144,\n",
       " 142,\n",
       " 18,\n",
       " 139,\n",
       " 144,\n",
       " 140,\n",
       " 7,\n",
       " 139,\n",
       " 143,\n",
       " 145,\n",
       " 1,\n",
       " 140,\n",
       " 144,\n",
       " 139,\n",
       " 0,\n",
       " 140,\n",
       " 143,\n",
       " 146,\n",
       " 0,\n",
       " 140,\n",
       " 143,\n",
       " 148,\n",
       " 0,\n",
       " 140,\n",
       " 144,\n",
       " 141,\n",
       " 0,\n",
       " 141,\n",
       " 143,\n",
       " 141,\n",
       " 6,\n",
       " 142,\n",
       " 143,\n",
       " 142,\n",
       " 0,\n",
       " 143,\n",
       " 143,\n",
       " 143,\n",
       " 3,\n",
       " 144,\n",
       " 143,\n",
       " 144,\n",
       " 0,\n",
       " 145,\n",
       " 142,\n",
       " 147,\n",
       " 0,\n",
       " 146,\n",
       " 142,\n",
       " 148,\n",
       " 0,\n",
       " 147,\n",
       " 143,\n",
       " 139,\n",
       " 0,\n",
       " 148,\n",
       " 143,\n",
       " 140,\n",
       " 0,\n",
       " 140,\n",
       " 139,\n",
       " 142,\n",
       " 147,\n",
       " 0,\n",
       " 140,\n",
       " 140,\n",
       " 142,\n",
       " 148,\n",
       " 0,\n",
       " 140,\n",
       " 141,\n",
       " 143,\n",
       " 139,\n",
       " 0,\n",
       " 140,\n",
       " 142,\n",
       " 143,\n",
       " 140,\n",
       " 0,\n",
       " 140,\n",
       " 143,\n",
       " 143,\n",
       " 141,\n",
       " 0,\n",
       " 140,\n",
       " 144,\n",
       " 143,\n",
       " 142,\n",
       " 0,\n",
       " 140,\n",
       " 145,\n",
       " 143,\n",
       " 143,\n",
       " 0,\n",
       " 140,\n",
       " 146,\n",
       " 143,\n",
       " 144,\n",
       " 0,\n",
       " 140,\n",
       " 147,\n",
       " 145,\n",
       " 141,\n",
       " 0,\n",
       " 140,\n",
       " 148,\n",
       " 145,\n",
       " 142,\n",
       " 0,\n",
       " 141,\n",
       " 139,\n",
       " 145,\n",
       " 143,\n",
       " 0,\n",
       " 141,\n",
       " 140,\n",
       " 145,\n",
       " 144,\n",
       " 0,\n",
       " 141,\n",
       " 141,\n",
       " 143,\n",
       " 145,\n",
       " 0,\n",
       " 141,\n",
       " 141,\n",
       " 142,\n",
       " 139,\n",
       " 0,\n",
       " 141,\n",
       " 142,\n",
       " 142,\n",
       " 140,\n",
       " 0,\n",
       " 141,\n",
       " 142,\n",
       " 143,\n",
       " 146,\n",
       " 0,\n",
       " 141,\n",
       " 143,\n",
       " 142,\n",
       " 141,\n",
       " 0,\n",
       " 141,\n",
       " 143,\n",
       " 143,\n",
       " 147,\n",
       " 0,\n",
       " 141,\n",
       " 144,\n",
       " 143,\n",
       " 148,\n",
       " 0,\n",
       " 141,\n",
       " 144,\n",
       " 142,\n",
       " 142,\n",
       " 0,\n",
       " 141,\n",
       " 145,\n",
       " 142,\n",
       " 139,\n",
       " 0,\n",
       " 141,\n",
       " 145,\n",
       " 144,\n",
       " 139,\n",
       " 0,\n",
       " 141,\n",
       " 146,\n",
       " 144,\n",
       " 140,\n",
       " 0,\n",
       " 141,\n",
       " 146,\n",
       " 142,\n",
       " 140,\n",
       " 0,\n",
       " 141,\n",
       " 147,\n",
       " 144,\n",
       " 141,\n",
       " 0,\n",
       " 141,\n",
       " 147,\n",
       " 142,\n",
       " 141,\n",
       " 0,\n",
       " 141,\n",
       " 148,\n",
       " 142,\n",
       " 142,\n",
       " 0,\n",
       " 141,\n",
       " 148,\n",
       " 144,\n",
       " 142,\n",
       " 0,\n",
       " 142,\n",
       " 139,\n",
       " 142,\n",
       " 143,\n",
       " 6,\n",
       " 142,\n",
       " 140,\n",
       " 142,\n",
       " 144,\n",
       " 2,\n",
       " 142,\n",
       " 141,\n",
       " 142,\n",
       " 145,\n",
       " 3,\n",
       " 142,\n",
       " 142,\n",
       " 142,\n",
       " 146,\n",
       " 1,\n",
       " 142,\n",
       " 143,\n",
       " 144,\n",
       " 143,\n",
       " 0,\n",
       " 142,\n",
       " 143,\n",
       " 144,\n",
       " 147,\n",
       " 0,\n",
       " 142,\n",
       " 144,\n",
       " 144,\n",
       " 148,\n",
       " 0,\n",
       " 142,\n",
       " 144,\n",
       " 144,\n",
       " 144,\n",
       " 1,\n",
       " 142,\n",
       " 145,\n",
       " 145,\n",
       " 139,\n",
       " 0,\n",
       " 142,\n",
       " 145,\n",
       " 144,\n",
       " 145,\n",
       " 0,\n",
       " 142,\n",
       " 146,\n",
       " 144,\n",
       " 146,\n",
       " 2,\n",
       " 142,\n",
       " 146,\n",
       " 145,\n",
       " 140,\n",
       " 0,\n",
       " 142,\n",
       " 147,\n",
       " 144,\n",
       " 147,\n",
       " 0,\n",
       " 142,\n",
       " 148,\n",
       " 144,\n",
       " 148,\n",
       " 0,\n",
       " 143,\n",
       " 139,\n",
       " 145,\n",
       " 139,\n",
       " 0,\n",
       " 143,\n",
       " 140,\n",
       " 145,\n",
       " 140,\n",
       " 0,\n",
       " 152,\n",
       " 150,\n",
       " 150,\n",
       " 150,\n",
       " 150,\n",
       " 150,\n",
       " 150,\n",
       " 150,\n",
       " 150,\n",
       " 150,\n",
       " 150,\n",
       " 150,\n",
       " 150,\n",
       " 150,\n",
       " 150,\n",
       " 150,\n",
       " 150,\n",
       " 150,\n",
       " 150,\n",
       " 150,\n",
       " 150,\n",
       " 150,\n",
       " 150,\n",
       " 150,\n",
       " 150,\n",
       " 150,\n",
       " 150,\n",
       " 150,\n",
       " 150,\n",
       " 150,\n",
       " 150,\n",
       " 150,\n",
       " 150,\n",
       " 150,\n",
       " 150,\n",
       " 150,\n",
       " 150,\n",
       " 150,\n",
       " 150,\n",
       " 150,\n",
       " 150,\n",
       " 150,\n",
       " 150,\n",
       " 150,\n",
       " 150,\n",
       " 150,\n",
       " 150,\n",
       " 150,\n",
       " 150,\n",
       " 150,\n",
       " 150,\n",
       " 150,\n",
       " 150,\n",
       " 150,\n",
       " 150,\n",
       " 150,\n",
       " 150,\n",
       " 150,\n",
       " 150,\n",
       " 150,\n",
       " 150,\n",
       " 150,\n",
       " 150,\n",
       " 150,\n",
       " 150,\n",
       " 150,\n",
       " 150,\n",
       " 150,\n",
       " 150,\n",
       " 150,\n",
       " 150,\n",
       " 150,\n",
       " 150,\n",
       " 150,\n",
       " 150,\n",
       " 150,\n",
       " 150,\n",
       " 150,\n",
       " 150,\n",
       " 150,\n",
       " 150,\n",
       " 150,\n",
       " 150,\n",
       " 150,\n",
       " 150,\n",
       " 150,\n",
       " 150,\n",
       " 150,\n",
       " 150,\n",
       " 150,\n",
       " 150,\n",
       " 150,\n",
       " 150,\n",
       " 150,\n",
       " 150,\n",
       " 150,\n",
       " 150,\n",
       " 150,\n",
       " 150,\n",
       " 150,\n",
       " 150,\n",
       " 150,\n",
       " 150,\n",
       " 150,\n",
       " 150,\n",
       " 150,\n",
       " 150,\n",
       " 150,\n",
       " 150,\n",
       " 150,\n",
       " 150,\n",
       " 150,\n",
       " 150,\n",
       " 150,\n",
       " 150,\n",
       " 150,\n",
       " 150,\n",
       " 150,\n",
       " 150,\n",
       " 150,\n",
       " 150,\n",
       " 150,\n",
       " 150,\n",
       " 150,\n",
       " 150,\n",
       " 150,\n",
       " 150,\n",
       " 150,\n",
       " 150,\n",
       " 150,\n",
       " 150,\n",
       " 150,\n",
       " 150,\n",
       " 150,\n",
       " 150,\n",
       " 150,\n",
       " 150,\n",
       " 150,\n",
       " 150,\n",
       " 150,\n",
       " 150,\n",
       " 150,\n",
       " 150,\n",
       " 150,\n",
       " 150,\n",
       " 150,\n",
       " 150,\n",
       " 150,\n",
       " 150,\n",
       " 150,\n",
       " 150,\n",
       " 150,\n",
       " 150,\n",
       " 150,\n",
       " 150,\n",
       " 150,\n",
       " 150,\n",
       " 150,\n",
       " 150,\n",
       " 150,\n",
       " 150]"
      ]
     },
     "execution_count": 17,
     "metadata": {},
     "output_type": "execute_result"
    }
   ],
   "source": [
    "tokens"
   ]
  },
  {
   "cell_type": "code",
   "execution_count": 18,
   "metadata": {},
   "outputs": [
    {
     "data": {
      "text/plain": [
       "512"
      ]
     },
     "execution_count": 18,
     "metadata": {},
     "output_type": "execute_result"
    }
   ],
   "source": [
    "len(tokens)"
   ]
  },
  {
   "cell_type": "code",
   "execution_count": 19,
   "metadata": {},
   "outputs": [
    {
     "data": {
      "text/plain": [
       "'[CLS] Cu Cu H H H H H H H H H H H H H H H H H H H H C C C C C C C C C C C C C C C C C C C C C C C C N N N N N N N N O O O O O O O O O O O O 0 4 8 - - o 0 5 3 - o o 0 5 1 o - + 0 4 6 o o + 1 5 0 o o o 1 4 7 o o o 1 4 9 o o o 1 5 2 o o o 2 4 2 o - o 3 4 3 o o o 4 4 4 o + o 5 4 5 o o o 6 3 8 o o o 7 3 9 o o o 8 4 0 o o o 9 4 1 o o o 1 0 3 8 o o o 1 1 3 9 o o o 1 2 4 0 o o o 1 3 4 1 o o o 1 4 4 2 o o o 1 5 4 3 o o o 1 6 4 4 o o o 1 7 4 5 o o o 1 8 6 2 o o o 1 9 6 3 o o o 2 0 6 4 o o o 2 1 6 5 o o o 2 2 4 6 o o o 2 2 3 0 o o o 2 3 3 1 o o o 2 3 4 7 o o o 2 4 3 2 o o o 2 4 4 8 o o o 2 5 4 9 o o o 2 5 3 3 o o o 2 6 3 0 o o o 2 6 5 0 o o o 2 7 5 1 o o o 2 7 3 1 o o o 2 8 5 2 o o o 2 8 3 2 o o o 2 9 3 3 o o o 2 9 5 3 o o o 3 0 3 4 o - o 3 1 3 5 o o - 3 2 3 6 o + o 3 3 3 7 o o + 3 4 5 4 o o o 3 4 5 8 o o o 3 5 5 9 o o o 3 5 5 5 o o + 3 6 6 0 o o o 3 6 5 6 o o o 3 7 5 7 o o - 3 7 6 1 o o o 3 8 5 8 o o o 3 9 5 9 o o o 4 0 6 0 o o o 4 1 6 1 o o o [SEP] [PAD] [PAD] [PAD] [PAD] [PAD] [PAD] [PAD] [PAD] [PAD] [PAD] [PAD] [PAD] [PAD] [PAD] [PAD] [PAD] [PAD] [PAD] [PAD] [PAD] [PAD] [PAD] [PAD] [PAD] [PAD] [PAD] [PAD] [PAD] [PAD] [PAD] [PAD] [PAD] [PAD] [PAD] [PAD] [PAD] [PAD] [PAD] [PAD] [PAD] [PAD] [PAD] [PAD] [PAD] [PAD] [PAD] [PAD] [PAD] [PAD] [PAD] [PAD] [PAD] [PAD] [PAD] [PAD] [PAD] [PAD] [PAD] [PAD] [PAD] [PAD] [PAD] [PAD] [PAD] [PAD] [PAD] [PAD] [PAD] [PAD] [PAD] [PAD] [PAD] [PAD] [PAD] [PAD] [PAD] [PAD] [PAD] [PAD] [PAD] [PAD] [PAD] [PAD] [PAD] [PAD] [PAD] [PAD] [PAD] [PAD] [PAD] [PAD] [PAD] [PAD] [PAD] [PAD] [PAD] [PAD] [PAD] [PAD] [PAD] [PAD] [PAD] [PAD] [PAD] [PAD] [PAD] [PAD] [PAD] [PAD] [PAD] [PAD] [PAD] [PAD] [PAD] [PAD] [PAD] [PAD] [PAD] [PAD] [PAD] [PAD] [PAD] [PAD] [PAD] [PAD] [PAD] [PAD] [PAD] [PAD] [PAD] [PAD] [PAD] [PAD] [PAD] [PAD] [PAD] [PAD] [PAD] [PAD] [PAD] [PAD] [PAD] [PAD] [PAD] [PAD] [PAD] [PAD] [PAD] [PAD] [PAD] [PAD] [PAD] [PAD] [PAD] [PAD] [PAD] [PAD] [PAD] [PAD] [PAD]'"
      ]
     },
     "execution_count": 19,
     "metadata": {},
     "output_type": "execute_result"
    }
   ],
   "source": [
    "tokenizer.decode(tokens)"
   ]
  },
  {
   "cell_type": "code",
   "execution_count": null,
   "metadata": {},
   "outputs": [],
   "source": []
  }
 ],
 "metadata": {
  "kernelspec": {
   "display_name": "xtal2txt",
   "language": "python",
   "name": "python3"
  },
  "language_info": {
   "codemirror_mode": {
    "name": "ipython",
    "version": 3
   },
   "file_extension": ".py",
   "mimetype": "text/x-python",
   "name": "python",
   "nbconvert_exporter": "python",
   "pygments_lexer": "ipython3",
   "version": "3.9.18"
  }
 },
 "nbformat": 4,
 "nbformat_minor": 2
}
