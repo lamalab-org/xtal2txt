{
 "cells": [
  {
   "cell_type": "code",
   "execution_count": 1,
   "metadata": {},
   "outputs": [],
   "source": [
    "from pymatgen.core import Structure"
   ]
  },
  {
   "cell_type": "code",
   "execution_count": 16,
   "metadata": {},
   "outputs": [],
   "source": [
    "from_file  = \"/home/so87pot/n0w0f/xtal2txt/tests/data/InCuS2_p1.cif\"\n",
    "structure = Structure.from_file(str(from_file), \"cif\")"
   ]
  },
  {
   "cell_type": "code",
   "execution_count": 17,
   "metadata": {},
   "outputs": [
    {
     "data": {
      "text/plain": [
       "Structure Summary\n",
       "Lattice\n",
       "    abc : 5.52040491 5.52040491 6.7959803201326165\n",
       " angles : 113.96335098610967 113.96335098610967 90.0\n",
       " volume : 169.53429042489148\n",
       "      A : 5.52040491 -0.0 -0.0\n",
       "      B : -3.380273101514416e-16 5.52040491 3.380273101514416e-16\n",
       "      C : -2.7602024549999995 -2.760202455 5.563084875\n",
       "    pbc : True True True\n",
       "PeriodicSite: Cu4 (Cu+) (-6.882e-17, 2.76, 2.782) [0.25, 0.75, 0.5]\n",
       "PeriodicSite: Cu5 (Cu+) (0.0, 0.0, 0.0) [0.0, 0.0, 0.0]\n",
       "PeriodicSite: In0 (In3+) (2.76, 2.76, 1.69e-16) [0.5, 0.5, 0.0]\n",
       "PeriodicSite: In1 (In3+) (2.76, -7.194e-16, 2.782) [0.75, 0.25, 0.5]\n",
       "PeriodicSite: S8 (S2-) (4.299, 4.14, 1.391) [0.9038, 0.875, 0.25]\n",
       "PeriodicSite: S9 (S2-) (1.38, -1.539, 4.172) [0.625, 0.0962, 0.75]\n",
       "PeriodicSite: S10 (S2-) (1.221, 1.38, 1.391) [0.3462, 0.375, 0.25]\n",
       "PeriodicSite: S11 (S2-) (-1.38, 1.539, 4.172) [0.125, 0.6538, 0.75]"
      ]
     },
     "execution_count": 17,
     "metadata": {},
     "output_type": "execute_result"
    }
   ],
   "source": [
    "structure"
   ]
  },
  {
   "cell_type": "code",
   "execution_count": 18,
   "metadata": {},
   "outputs": [],
   "source": [
    "structure.translate_sites(indices=[0], vector=[0.5, 0.5, 0.5], frac_coords=True)"
   ]
  },
  {
   "cell_type": "code",
   "execution_count": 19,
   "metadata": {},
   "outputs": [
    {
     "data": {
      "text/plain": [
       "Structure Summary\n",
       "Lattice\n",
       "    abc : 5.52040491 5.52040491 6.7959803201326165\n",
       " angles : 113.96335098610967 113.96335098610967 90.0\n",
       " volume : 169.53429042489148\n",
       "      A : 5.52040491 -0.0 -0.0\n",
       "      B : -3.380273101514416e-16 5.52040491 3.380273101514416e-16\n",
       "      C : -2.7602024549999995 -2.760202455 5.563084875\n",
       "    pbc : True True True\n",
       "PeriodicSite: Cu4 (Cu+) (4.14, 1.38, 8.451e-17) [0.75, 0.25, 0.0]\n",
       "PeriodicSite: Cu5 (Cu+) (0.0, 0.0, 0.0) [0.0, 0.0, 0.0]\n",
       "PeriodicSite: In0 (In3+) (2.76, 2.76, 1.69e-16) [0.5, 0.5, 0.0]\n",
       "PeriodicSite: In1 (In3+) (2.76, -7.194e-16, 2.782) [0.75, 0.25, 0.5]\n",
       "PeriodicSite: S8 (S2-) (4.299, 4.14, 1.391) [0.9038, 0.875, 0.25]\n",
       "PeriodicSite: S9 (S2-) (1.38, -1.539, 4.172) [0.625, 0.0962, 0.75]\n",
       "PeriodicSite: S10 (S2-) (1.221, 1.38, 1.391) [0.3462, 0.375, 0.25]\n",
       "PeriodicSite: S11 (S2-) (-1.38, 1.539, 4.172) [0.125, 0.6538, 0.75]"
      ]
     },
     "execution_count": 19,
     "metadata": {},
     "output_type": "execute_result"
    }
   ],
   "source": [
    "structure"
   ]
  },
  {
   "cell_type": "code",
   "execution_count": 11,
   "metadata": {},
   "outputs": [
    {
     "data": {
      "text/plain": [
       "PeriodicSite: In1 (In3+) (2.76, -7.194e-16, 2.782) [0.75, 0.25, 0.5]"
      ]
     },
     "execution_count": 11,
     "metadata": {},
     "output_type": "execute_result"
    }
   ],
   "source": [
    "import random\n",
    "\n",
    "selected_site = random.choice(structure.sites)\n",
    "selected_site\n"
   ]
  },
  {
   "cell_type": "code",
   "execution_count": 10,
   "metadata": {},
   "outputs": [
    {
     "data": {
      "text/plain": [
       "array([[0.25      , 0.75      , 0.5       ],\n",
       "       [0.        , 0.        , 0.        ],\n",
       "       [0.5       , 0.5       , 0.        ],\n",
       "       [0.75      , 0.25      , 0.5       ],\n",
       "       [0.90380269, 0.875     , 0.25      ],\n",
       "       [0.625     , 0.09619731, 0.75      ],\n",
       "       [0.34619731, 0.375     , 0.25      ],\n",
       "       [0.125     , 0.65380269, 0.75      ]])"
      ]
     },
     "execution_count": 10,
     "metadata": {},
     "output_type": "execute_result"
    }
   ],
   "source": [
    "structure.frac_coords"
   ]
  },
  {
   "cell_type": "code",
   "execution_count": 99,
   "metadata": {},
   "outputs": [],
   "source": [
    "from pymatgen.core.structure import Molecule\n",
    "\n",
    "species = [s.element for s in structure.species]\n",
    "coords = [c for c in structure.cart_coords]\n",
    "molecule_ = Molecule(species, coords, )\n",
    "zmatrix = molecule_.get_zmatrix()"
   ]
  },
  {
   "cell_type": "code",
   "execution_count": 100,
   "metadata": {},
   "outputs": [
    {
     "data": {
      "text/plain": [
       "[Element Cu,\n",
       " Element Cu,\n",
       " Element In,\n",
       " Element In,\n",
       " Element S,\n",
       " Element S,\n",
       " Element S,\n",
       " Element S]"
      ]
     },
     "execution_count": 100,
     "metadata": {},
     "output_type": "execute_result"
    }
   ],
   "source": [
    "species"
   ]
  },
  {
   "cell_type": "code",
   "execution_count": 101,
   "metadata": {},
   "outputs": [],
   "source": []
  },
  {
   "cell_type": "code",
   "execution_count": 102,
   "metadata": {},
   "outputs": [
    {
     "data": {
      "text/plain": [
       "'Cu\\nCu 1 B1\\nIn 2 B2 1 A2\\nIn 1 B3 2 A3 3 D3\\nS 3 B4 4 A4 1 D4\\nS 4 B5 2 A5 1 D5\\nS 1 B6 2 A6 3 D6\\nS 1 B7 7 A7 6 D7\\n\\nB1=3.918634\\nB2=3.903516\\nA2=60.127545\\nB3=3.903516\\nA3=60.127545\\nD3=-70.736126\\nB4=2.491539\\nA4=89.652997\\nD4=92.783483\\nB5=2.491539\\nA5=90.347003\\nD5=92.783483\\nB6=2.308681\\nA6=31.932261\\nD6=-35.368063\\nB7=2.308681\\nA7=111.278234\\nD7=-32.179551'"
      ]
     },
     "execution_count": 102,
     "metadata": {},
     "output_type": "execute_result"
    }
   ],
   "source": [
    "zmatrix"
   ]
  },
  {
   "cell_type": "code",
   "execution_count": 90,
   "metadata": {},
   "outputs": [],
   "source": [
    "def updated_zmatrix_rep(zmatrix, decimal_places=1):\n",
    "    lines = zmatrix.split('\\n')\n",
    "    main_part = []\n",
    "    variables_part = []\n",
    "\n",
    "    # Determine the main part and the variables part of the Z-matrix\n",
    "    for line in lines:\n",
    "        if '=' in line:\n",
    "            variables_part.append(line)\n",
    "        else:\n",
    "            if line.strip():  # Skip empty lines\n",
    "                main_part.append(line)\n",
    "\n",
    "    # Extract variables from the variables part\n",
    "    variable_dict = {}\n",
    "    for var_line in variables_part:\n",
    "        var, value = var_line.split('=')\n",
    "        if var.startswith('B'):\n",
    "            rounded_value = round(float(value.strip()), decimal_places)\n",
    "        else:\n",
    "            rounded_value = int(round(float(value.strip())))\n",
    "        variable_dict[var] = f\"{rounded_value}\" if var.startswith(('A', 'D')) else f\"{rounded_value:.{decimal_places}f}\"\n",
    "\n",
    "    # Replace variables in the main part\n",
    "    replaced_lines = []\n",
    "    for line in main_part:\n",
    "        parts = line.split()\n",
    "        atom = parts[0]\n",
    "        replaced_line = line\n",
    "        for i in range(1, len(parts)):\n",
    "            var = parts[i]\n",
    "            if var in variable_dict:\n",
    "                replaced_line = replaced_line.replace(var, variable_dict[var])\n",
    "        replaced_lines.append(replaced_line)\n",
    "\n",
    "    return '\\n'.join(replaced_lines)\n",
    "\n"
   ]
  },
  {
   "cell_type": "code",
   "execution_count": 91,
   "metadata": {},
   "outputs": [],
   "source": [
    "updated_zmatrix = replace_zmatrix_variables(zmatrix)"
   ]
  },
  {
   "cell_type": "code",
   "execution_count": 92,
   "metadata": {},
   "outputs": [
    {
     "data": {
      "text/plain": [
       "'Cu+\\nCu+ 1 3.9\\nIn3+ 2 3.9 1 60\\nIn3+ 1 3.9 2 60 3 -71\\nS2- 3 2.5 4 90 1 93\\nS2- 4 2.5 2 90 1 93\\nS2- 1 2.3 2 32 3 -35\\nS2- 1 2.3 7 111 6 -32'"
      ]
     },
     "execution_count": 92,
     "metadata": {},
     "output_type": "execute_result"
    }
   ],
   "source": [
    "updated_zmatrix"
   ]
  },
  {
   "cell_type": "code",
   "execution_count": 93,
   "metadata": {},
   "outputs": [],
   "source": [
    "molecule_.get_zmatrix()\n",
    "#write this into a  txt file \n",
    "with open(\"/Users/n0w0f/git/n0w0f/xtal2txt/notebooks/molecule.txt\", \"w\") as f:\n",
    "    f.write(updated_zmatrix)\n"
   ]
  },
  {
   "cell_type": "code",
   "execution_count": 23,
   "metadata": {},
   "outputs": [],
   "source": [
    "struct = Structure.from_str(\"data_ZnMoCl2\\n_symmetry_space_group_name_H-M   'P 1'\\n_cell_length_a   3.65\\n_cell_length_b   3.23\\n_cell_length_c   7.1\\n_cell_angle_alpha   90.0\\n_cell_angle_beta   101.56\\n_cell_angle_gamma   90.0\\n_symmetry_Int_Tables_number   1\\n_chemical_formula_structural   ZnMoCl2\\n_chemical_formula_sum   'Zn1 Mo1 Cl2'\\n_cell_volume   82.06\\n_cell_formula_units_Z   1\\nloop_\\n _symmetry_equiv_pos_site_id\\n _symmetry_equiv_pos_as_xyz\\n  1  'x, y, z'\\nloop_\\n _atom_site_type_symbol\\n _atom_site_label\\n _atom_site_symmetry_multiplicity\\n _atom_site_fract_x\\n _atom_site_fract_y\\n _atom_site_fract_z\\n _atom_site_occupancy\\n  Zn  Zn3  1  0.25  0.0  0.02  1.0\\n  Mo  Mo2  1  0.43  0.62  0.04  1.0\\n  Cl  Cl0  1  0.15  0.62  0.56  1.0\\n  Cl  Cl1  1  0.51  0.0  0.82  1.0\\n\", fmt=\"cif\")"
   ]
  },
  {
   "cell_type": "code",
   "execution_count": 29,
   "metadata": {},
   "outputs": [
    {
     "data": {
      "text/plain": [
       "Structure Summary\n",
       "Lattice\n",
       "    abc : 3.65 3.23 7.1\n",
       " angles : 90.0 101.56000000000002 90.0\n",
       " volume : 82.0075175703201\n",
       "      A : 3.5759611725600706 0.0 -0.7314380987772003\n",
       "      B : -1.9778045806229754e-16 3.23 1.9778045806229754e-16\n",
       "      C : 0.0 0.0 7.1\n",
       "    pbc : True True True\n",
       "PeriodicSite: Zn3 (Zn) (0.894, 0.0, -0.04086) [0.25, 0.0, 0.02]\n",
       "PeriodicSite: Mo2 (Mo) (1.538, 2.003, -0.03052) [0.43, 0.62, 0.04]\n",
       "PeriodicSite: Cl0 (Cl) (0.5364, 2.003, 3.866) [0.15, 0.62, 0.56]\n",
       "PeriodicSite: Cl1 (Cl) (1.824, 0.0, 5.449) [0.51, 0.0, 0.82]"
      ]
     },
     "execution_count": 29,
     "metadata": {},
     "output_type": "execute_result"
    }
   ],
   "source": [
    "struct"
   ]
  },
  {
   "cell_type": "code",
   "execution_count": 27,
   "metadata": {},
   "outputs": [],
   "source": [
    "species_ =  [s for s in structure.species]"
   ]
  },
  {
   "cell_type": "code",
   "execution_count": 28,
   "metadata": {},
   "outputs": [
    {
     "data": {
      "text/plain": [
       "[Species Cu+,\n",
       " Species Cu+,\n",
       " Species In3+,\n",
       " Species In3+,\n",
       " Species S2-,\n",
       " Species S2-,\n",
       " Species S2-,\n",
       " Species S2-]"
      ]
     },
     "execution_count": 28,
     "metadata": {},
     "output_type": "execute_result"
    }
   ],
   "source": [
    "species_"
   ]
  },
  {
   "cell_type": "code",
   "execution_count": null,
   "metadata": {},
   "outputs": [],
   "source": [
    "from scipy.spatial.distance import squareform\n",
    "\n",
    "def get_distance(self, i: int, j: int) -> float:\n",
    "        \"\"\"Get distance between site i and j.\n",
    "\n",
    "        Args:\n",
    "            i (int): 1st site index\n",
    "            j (int): 2nd site index\n",
    "\n",
    "        Returns:\n",
    "            Distance between the two sites.\n",
    "        \"\"\"\n",
    "        return self[i].distance(self[j])\n",
    "\n",
    "def _find_nn_pos_before_site(self, site_idx):\n",
    "        \"\"\"Returns index of nearest neighbor atoms.\"\"\"\n",
    "        all_dist = [(self.get_distance(site_idx, idx), idx) for idx in range(site_idx)]\n",
    "        all_dist = sorted(all_dist, key=lambda x: x[0])\n",
    "        return [d[1] for d in all_dist]\n",
    "\n",
    "def get_zmatrix(self, molecule, decimal_places=6):\n",
    "    \"\"\"Returns a z-matrix representation of the molecule.\"\"\"\n",
    "    output = []\n",
    "    output_var = []\n",
    "    for idx, site in enumerate(molecule):\n",
    "        if idx == 0:\n",
    "            output.append(f\"{site.specie}\")\n",
    "        else:\n",
    "            nn = self._find_nn_pos_before_site(molecule, idx)\n",
    "            bond_length = molecule.get_distance(idx, nn[0])\n",
    "            bond_length_str = f\"{bond_length:.{decimal_places}f}\"\n",
    "            bond_rep = f\"{nn[0] + 1} {bond_length_str}\"\n",
    "            bond_var = f\"B{idx}={bond_length_str}\"\n",
    "            if idx == 1:\n",
    "                output.append(f\"{molecule[idx].specie} {bond_rep}\")\n",
    "            elif idx == 2:\n",
    "                angle = molecule.get_angle(idx, nn[0], nn[1])\n",
    "                angle_str = f\"{angle:.{decimal_places}f}\"\n",
    "                output.append(f\"{molecule[idx].specie} {bond_rep} {nn[1] + 1} {angle_str}\")\n",
    "                output_var.append(f\"A{idx}={angle_str}\")\n",
    "            else:\n",
    "                angle = molecule.get_angle(idx, nn[0], nn[1])\n",
    "                angle_str = f\"{angle:.{decimal_places}f}\"\n",
    "                dihedral = molecule.get_dihedral(idx, nn[0], nn[1], nn[2])\n",
    "                dihedral_str = f\"{dihedral:.{decimal_places}f}\"\n",
    "                output.append(f\"{molecule[idx].specie} {bond_rep} {nn[1] + 1} {angle_str} {nn[2] + 1} {dihedral_str}\")\n",
    "                output_var.extend([f\"A{idx}={angle_str}\", f\"D{idx}={dihedral_str}\"])\n",
    "            output_var.append(bond_var)\n",
    "    return \"\\n\".join(output) + \"\\n\\n\" + \"\\n\".join(output_var)\n"
   ]
  }
 ],
 "metadata": {
  "kernelspec": {
   "display_name": "xtal2txt",
   "language": "python",
   "name": "python3"
  },
  "language_info": {
   "codemirror_mode": {
    "name": "ipython",
    "version": 3
   },
   "file_extension": ".py",
   "mimetype": "text/x-python",
   "name": "python",
   "nbconvert_exporter": "python",
   "pygments_lexer": "ipython3",
   "version": "3.9.18"
  }
 },
 "nbformat": 4,
 "nbformat_minor": 2
}
