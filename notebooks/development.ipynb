{
 "cells": [
  {
   "cell_type": "code",
   "execution_count": 1,
   "metadata": {},
   "outputs": [],
   "source": [
    "from pymatgen.core import Structure"
   ]
  },
  {
   "cell_type": "code",
   "execution_count": 3,
   "metadata": {},
   "outputs": [],
   "source": [
    "from_file  = \"/Users/n0w0f/git/n0w0f/xtal2txt/tests/data/InCuS2_p1.cif\"\n",
    "structure = Structure.from_file(str(from_file), \"cif\")"
   ]
  },
  {
   "cell_type": "code",
   "execution_count": 11,
   "metadata": {},
   "outputs": [],
   "source": [
    "from pymatgen.core.structure import Molecule"
   ]
  },
  {
   "cell_type": "code",
   "execution_count": 22,
   "metadata": {},
   "outputs": [
    {
     "data": {
      "text/plain": [
       "Structure Summary\n",
       "Lattice\n",
       "    abc : 5.52040491 5.52040491 6.7959803201326165\n",
       " angles : 113.96335098610967 113.96335098610967 90.0\n",
       " volume : 169.53429042489148\n",
       "      A : 5.52040491 -0.0 -0.0\n",
       "      B : -3.380273101514416e-16 5.52040491 3.380273101514416e-16\n",
       "      C : -2.7602024549999995 -2.760202455 5.563084875\n",
       "    pbc : True True True\n",
       "PeriodicSite: Cu4 (Cu+) (-6.882e-17, 2.76, 2.782) [0.25, 0.75, 0.5]\n",
       "PeriodicSite: Cu5 (Cu+) (0.0, 0.0, 0.0) [0.0, 0.0, 0.0]\n",
       "PeriodicSite: In0 (In3+) (2.76, 2.76, 1.69e-16) [0.5, 0.5, 0.0]\n",
       "PeriodicSite: In1 (In3+) (2.76, -7.194e-16, 2.782) [0.75, 0.25, 0.5]\n",
       "PeriodicSite: S8 (S2-) (4.299, 4.14, 1.391) [0.9038, 0.875, 0.25]\n",
       "PeriodicSite: S9 (S2-) (1.38, -1.539, 4.172) [0.625, 0.0962, 0.75]\n",
       "PeriodicSite: S10 (S2-) (1.221, 1.38, 1.391) [0.3462, 0.375, 0.25]\n",
       "PeriodicSite: S11 (S2-) (-1.38, 1.539, 4.172) [0.125, 0.6538, 0.75]"
      ]
     },
     "execution_count": 22,
     "metadata": {},
     "output_type": "execute_result"
    }
   ],
   "source": [
    "structure"
   ]
  },
  {
   "cell_type": "code",
   "execution_count": 13,
   "metadata": {},
   "outputs": [],
   "source": [
    "species = [s for s in structure.species]\n",
    "coords = [c for c in structure.cart_coords]"
   ]
  },
  {
   "cell_type": "code",
   "execution_count": 14,
   "metadata": {},
   "outputs": [],
   "source": [
    "molecule_ = Molecule(species, coords, )"
   ]
  },
  {
   "cell_type": "code",
   "execution_count": 19,
   "metadata": {},
   "outputs": [
    {
     "data": {
      "text/plain": [
       "'Cu+\\nCu+ 1 B1\\nIn3+ 2 B2 1 A2\\nIn3+ 1 B3 2 A3 3 D3\\nS2- 3 B4 4 A4 1 D4\\nS2- 4 B5 2 A5 1 D5\\nS2- 1 B6 2 A6 3 D6\\nS2- 1 B7 7 A7 6 D7\\n\\nB1=3.918634\\nB2=3.903516\\nA2=60.127545\\nB3=3.903516\\nA3=60.127545\\nD3=-70.736126\\nB4=2.491539\\nA4=89.652997\\nD4=92.783483\\nB5=2.491539\\nA5=90.347003\\nD5=92.783483\\nB6=2.308681\\nA6=31.932261\\nD6=-35.368063\\nB7=2.308681\\nA7=111.278234\\nD7=-32.179551'"
      ]
     },
     "execution_count": 19,
     "metadata": {},
     "output_type": "execute_result"
    }
   ],
   "source": [
    "molecule_.get_zmatrix()"
   ]
  },
  {
   "cell_type": "code",
   "execution_count": 23,
   "metadata": {},
   "outputs": [],
   "source": [
    "struct = Structure.from_str(\"data_ZnMoCl2\\n_symmetry_space_group_name_H-M   'P 1'\\n_cell_length_a   3.65\\n_cell_length_b   3.23\\n_cell_length_c   7.1\\n_cell_angle_alpha   90.0\\n_cell_angle_beta   101.56\\n_cell_angle_gamma   90.0\\n_symmetry_Int_Tables_number   1\\n_chemical_formula_structural   ZnMoCl2\\n_chemical_formula_sum   'Zn1 Mo1 Cl2'\\n_cell_volume   82.06\\n_cell_formula_units_Z   1\\nloop_\\n _symmetry_equiv_pos_site_id\\n _symmetry_equiv_pos_as_xyz\\n  1  'x, y, z'\\nloop_\\n _atom_site_type_symbol\\n _atom_site_label\\n _atom_site_symmetry_multiplicity\\n _atom_site_fract_x\\n _atom_site_fract_y\\n _atom_site_fract_z\\n _atom_site_occupancy\\n  Zn  Zn3  1  0.25  0.0  0.02  1.0\\n  Mo  Mo2  1  0.43  0.62  0.04  1.0\\n  Cl  Cl0  1  0.15  0.62  0.56  1.0\\n  Cl  Cl1  1  0.51  0.0  0.82  1.0\\n\", fmt=\"cif\")"
   ]
  },
  {
   "cell_type": "code",
   "execution_count": 29,
   "metadata": {},
   "outputs": [
    {
     "data": {
      "text/plain": [
       "Structure Summary\n",
       "Lattice\n",
       "    abc : 3.65 3.23 7.1\n",
       " angles : 90.0 101.56000000000002 90.0\n",
       " volume : 82.0075175703201\n",
       "      A : 3.5759611725600706 0.0 -0.7314380987772003\n",
       "      B : -1.9778045806229754e-16 3.23 1.9778045806229754e-16\n",
       "      C : 0.0 0.0 7.1\n",
       "    pbc : True True True\n",
       "PeriodicSite: Zn3 (Zn) (0.894, 0.0, -0.04086) [0.25, 0.0, 0.02]\n",
       "PeriodicSite: Mo2 (Mo) (1.538, 2.003, -0.03052) [0.43, 0.62, 0.04]\n",
       "PeriodicSite: Cl0 (Cl) (0.5364, 2.003, 3.866) [0.15, 0.62, 0.56]\n",
       "PeriodicSite: Cl1 (Cl) (1.824, 0.0, 5.449) [0.51, 0.0, 0.82]"
      ]
     },
     "execution_count": 29,
     "metadata": {},
     "output_type": "execute_result"
    }
   ],
   "source": [
    "struct"
   ]
  },
  {
   "cell_type": "code",
   "execution_count": 27,
   "metadata": {},
   "outputs": [],
   "source": [
    "species_ =  [s for s in structure.species]"
   ]
  },
  {
   "cell_type": "code",
   "execution_count": 28,
   "metadata": {},
   "outputs": [
    {
     "data": {
      "text/plain": [
       "[Species Cu+,\n",
       " Species Cu+,\n",
       " Species In3+,\n",
       " Species In3+,\n",
       " Species S2-,\n",
       " Species S2-,\n",
       " Species S2-,\n",
       " Species S2-]"
      ]
     },
     "execution_count": 28,
     "metadata": {},
     "output_type": "execute_result"
    }
   ],
   "source": [
    "species_"
   ]
  },
  {
   "cell_type": "code",
   "execution_count": null,
   "metadata": {},
   "outputs": [],
   "source": []
  }
 ],
 "metadata": {
  "kernelspec": {
   "display_name": "xtal2txt",
   "language": "python",
   "name": "python3"
  },
  "language_info": {
   "codemirror_mode": {
    "name": "ipython",
    "version": 3
   },
   "file_extension": ".py",
   "mimetype": "text/x-python",
   "name": "python",
   "nbconvert_exporter": "python",
   "pygments_lexer": "ipython3",
   "version": "3.10.13"
  }
 },
 "nbformat": 4,
 "nbformat_minor": 2
}
